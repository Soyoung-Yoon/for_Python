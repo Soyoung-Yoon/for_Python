{
 "cells": [
  {
   "cell_type": "code",
   "execution_count": 3,
   "metadata": {
    "id": "ADqNczRAtymr"
   },
   "outputs": [
    {
     "data": {
      "text/html": [
       "<style>#notebook-container {width: 90% !important; }</style>"
      ],
      "text/plain": [
       "<IPython.core.display.HTML object>"
      ]
     },
     "metadata": {},
     "output_type": "display_data"
    },
    {
     "data": {
      "text/html": [
       "<style>.rendered_html{font-family: 'D2Coding'; font-size: 16pt; line-height: 140%;}</style>"
      ],
      "text/plain": [
       "<IPython.core.display.HTML object>"
      ]
     },
     "metadata": {},
     "output_type": "display_data"
    },
    {
     "data": {
      "text/html": [
       "<style>.rendered_html table{font-family: 'D2Coding'; font-size: 16pt; line-height: 140%;}</style>"
      ],
      "text/plain": [
       "<IPython.core.display.HTML object>"
      ]
     },
     "metadata": {},
     "output_type": "display_data"
    },
    {
     "data": {
      "text/html": [
       "<style>pre{font-family: 'D2Coding', font-size: 16pt;}.rendered_html>ul>li{margin: 10px}</style>"
      ],
      "text/plain": [
       "<IPython.core.display.HTML object>"
      ]
     },
     "metadata": {},
     "output_type": "display_data"
    },
    {
     "data": {
      "text/html": [
       "<style>div.output_area>pre, div.output_subarea>pre{font-size: 16pt !important; line-height: 140%;}</style>"
      ],
      "text/plain": [
       "<IPython.core.display.HTML object>"
      ]
     },
     "metadata": {},
     "output_type": "display_data"
    },
    {
     "data": {
      "text/html": [
       "<style> .CodeMirror pre {font-family: 'D2Coding'; font-size: 18pt !important; line-height: 140%;}</style>"
      ],
      "text/plain": [
       "<IPython.core.display.HTML object>"
      ]
     },
     "metadata": {},
     "output_type": "display_data"
    }
   ],
   "source": [
    "from IPython.core.display import display, HTML\n",
    "# 노트북 컨테이너 크기 조절\n",
    "display(HTML(\"<style>#notebook-container {width: 90% !important; }</style>\"))\n",
    "# 마크다운 폰트\n",
    "display(HTML(\"<style>.rendered_html{font-family: 'D2Coding'; font-size: 16pt; line-height: 140%;}</style>\"))\n",
    "# DataFrame 테이블 폰트\n",
    "display(HTML(\"<style>.rendered_html table{font-family: 'D2Coding'; font-size: 16pt; line-height: 140%;}</style>\"))\n",
    "# 출력창 폰트\n",
    "display(HTML(\"<style>pre{font-family: 'D2Coding', font-size: 16pt;}.rendered_html>ul>li{margin: 10px}</style>\"))\n",
    "display(HTML(\"<style>div.output_area>pre, div.output_subarea>pre{font-size: 16pt !important; line-height: 140%;}</style>\"))\n",
    "# 코드셀 폰트\n",
    "display(HTML(\"<style> .CodeMirror pre {font-family: 'D2Coding'; font-size: 18pt !important; line-height: 140%;}</style>\"))"
   ]
  },
  {
   "cell_type": "code",
   "execution_count": null,
   "metadata": {},
   "outputs": [],
   "source": [
    "# 코드셀 폰트\n",
    "display(HTML(\"<style> .CodeMirror pre {font-family: 'D2Coding'; font-size: 12pt !important; line-height: 140%;}</style>\"))"
   ]
  },
  {
   "cell_type": "markdown",
   "metadata": {
    "id": "jIpTfi-cSRBa"
   },
   "source": [
    "## 1.변수 선언 및 데이터 타입\n"
   ]
  },
  {
   "cell_type": "code",
   "execution_count": null,
   "metadata": {
    "id": "EfWUhghfLzzW"
   },
   "outputs": [],
   "source": [
    "변수 - 이름"
   ]
  },
  {
   "cell_type": "code",
   "execution_count": 4,
   "metadata": {
    "id": "pOjwzdIfSRBc"
   },
   "outputs": [],
   "source": [
    "# 파이썬! 3을 a라고 하자! (3에 a라는 이름을 부여하자)\n",
    "a = 3\n",
    "A = 5"
   ]
  },
  {
   "cell_type": "code",
   "execution_count": 5,
   "metadata": {
    "colab": {
     "base_uri": "https://localhost:8080/",
     "height": 35
    },
    "id": "uDRdic4CSRBl",
    "outputId": "fb070495-d063-4548-fcaa-fce9e2e0dd78",
    "scrolled": true
   },
   "outputs": [
    {
     "name": "stdout",
     "output_type": "stream",
     "text": [
      "3 5\n"
     ]
    }
   ],
   "source": [
    "# 파이썬! a를 출력해줘! (print 함수를 사용해서 출력)\n",
    "print(a, A)"
   ]
  },
  {
   "cell_type": "code",
   "execution_count": 6,
   "metadata": {
    "colab": {
     "base_uri": "https://localhost:8080/"
    },
    "id": "VskZHeUySRBr",
    "outputId": "d5427c1d-d798-4998-a1a8-56f6fb3018b2"
   },
   "outputs": [
    {
     "data": {
      "text/plain": [
       "3"
      ]
     },
     "execution_count": 6,
     "metadata": {},
     "output_type": "execute_result"
    }
   ],
   "source": [
    "# print 함수 없이 바로 출력 (expression - 하나의 객체로 표현 되는 것)\n",
    "a"
   ]
  },
  {
   "cell_type": "code",
   "execution_count": 7,
   "metadata": {
    "id": "ygOtfT4KSRBv"
   },
   "outputs": [],
   "source": [
    "# 파이썬! \"python\"을 b 라고 하자!\n",
    "b = \"python\""
   ]
  },
  {
   "cell_type": "code",
   "execution_count": 14,
   "metadata": {
    "colab": {
     "base_uri": "https://localhost:8080/",
     "height": 52
    },
    "id": "inBNTBxlSRB4",
    "outputId": "d94f54c3-8d6a-4abf-ee1b-c7418e2be5ba"
   },
   "outputs": [
    {
     "name": "stdout",
     "output_type": "stream",
     "text": [
      "python\n"
     ]
    },
    {
     "data": {
      "text/plain": [
       "'python'"
      ]
     },
     "execution_count": 14,
     "metadata": {},
     "output_type": "execute_result"
    }
   ],
   "source": [
    "# print함수를 사용한 출력과 사용하지 않은 출력을 비교하세요!\n",
    "print(b)\n",
    "b"
   ]
  },
  {
   "cell_type": "code",
   "execution_count": 13,
   "metadata": {},
   "outputs": [
    {
     "data": {
      "text/plain": [
       "3"
      ]
     },
     "metadata": {},
     "output_type": "display_data"
    },
    {
     "data": {
      "text/plain": [
       "'python'"
      ]
     },
     "metadata": {},
     "output_type": "display_data"
    }
   ],
   "source": [
    "display(a, b)  # IPython"
   ]
  },
  {
   "cell_type": "code",
   "execution_count": 11,
   "metadata": {},
   "outputs": [
    {
     "name": "stdout",
     "output_type": "stream",
     "text": [
      "3\n",
      "python\n"
     ]
    }
   ],
   "source": [
    "print(a)  # IPython, CPython\n",
    "print(b)"
   ]
  },
  {
   "cell_type": "code",
   "execution_count": 15,
   "metadata": {
    "id": "MwCWmab8SRB9"
   },
   "outputs": [
    {
     "name": "stdout",
     "output_type": "stream",
     "text": [
      "[1, 2, 3]\n"
     ]
    }
   ],
   "source": [
    "# 파이썬! [1, 2, 3]의 리스트(list)를 c라고 하자!\n",
    "c = [1, 2, 3]\n",
    "print(c)"
   ]
  },
  {
   "cell_type": "markdown",
   "metadata": {
    "id": "qqx3tvgeBMFE"
   },
   "source": [
    "### 1-01 변수 이름 규칙\n",
    "- 영문 혹은 _(Under Score)로 시작\n",
    "- 두 번째 글자부터 영문자, 문자, 숫자, _(Under Score) 사용가능\n",
    "- 글자 수 길이 무제한\n",
    "- 유니코드 가능(변수명 한글 가능)\n",
    "- 키워드는 변수로 사용 불가능\n",
    "   - False, elif, lambda, None, else, nonlocal, True, except, not, and, finally, or, as, for,\n",
    "pass, assert, from, raise, break, global, return, class, if, try, continue, import,\n",
    "while, def, in, with, del, is, yield"
   ]
  },
  {
   "cell_type": "code",
   "execution_count": 17,
   "metadata": {},
   "outputs": [
    {
     "ename": "SyntaxError",
     "evalue": "invalid syntax (<ipython-input-17-9977adc972d2>, line 1)",
     "output_type": "error",
     "traceback": [
      "\u001b[0;36m  File \u001b[0;32m\"<ipython-input-17-9977adc972d2>\"\u001b[0;36m, line \u001b[0;32m1\u001b[0m\n\u001b[0;31m    lambda = 100\u001b[0m\n\u001b[0m           ^\u001b[0m\n\u001b[0;31mSyntaxError\u001b[0m\u001b[0;31m:\u001b[0m invalid syntax\n"
     ]
    }
   ],
   "source": [
    "lambda = 100"
   ]
  },
  {
   "cell_type": "code",
   "execution_count": 30,
   "metadata": {},
   "outputs": [
    {
     "ename": "NameError",
     "evalue": "name 'sum' is not defined",
     "output_type": "error",
     "traceback": [
      "\u001b[0;31m---------------------------------------------------------------------------\u001b[0m",
      "\u001b[0;31mNameError\u001b[0m                                 Traceback (most recent call last)",
      "\u001b[0;32m<ipython-input-30-f5d3425f6779>\u001b[0m in \u001b[0;36m<module>\u001b[0;34m\u001b[0m\n\u001b[0;32m----> 1\u001b[0;31m \u001b[0;32mdel\u001b[0m \u001b[0msum\u001b[0m\u001b[0;34m\u001b[0m\u001b[0m\n\u001b[0m\u001b[1;32m      2\u001b[0m \u001b[0mprint\u001b[0m\u001b[0;34m(\u001b[0m\u001b[0mtype\u001b[0m\u001b[0;34m(\u001b[0m\u001b[0msum\u001b[0m\u001b[0;34m)\u001b[0m\u001b[0;34m)\u001b[0m\u001b[0;34m\u001b[0m\u001b[0m\n",
      "\u001b[0;31mNameError\u001b[0m: name 'sum' is not defined"
     ]
    }
   ],
   "source": [
    "del sum\n",
    "print(type(sum))"
   ]
  },
  {
   "cell_type": "code",
   "execution_count": 31,
   "metadata": {},
   "outputs": [
    {
     "data": {
      "text/plain": [
       "6"
      ]
     },
     "execution_count": 31,
     "metadata": {},
     "output_type": "execute_result"
    }
   ],
   "source": [
    "c = [1, 2, 3]\n",
    "sum(c)"
   ]
  },
  {
   "cell_type": "code",
   "execution_count": 32,
   "metadata": {},
   "outputs": [
    {
     "name": "stdout",
     "output_type": "stream",
     "text": [
      "<class 'int'>\n"
     ]
    },
    {
     "data": {
      "text/plain": [
       "int"
      ]
     },
     "execution_count": 32,
     "metadata": {},
     "output_type": "execute_result"
    }
   ],
   "source": [
    "sum = 100\n",
    "print(type(sum))\n",
    "type(sum)"
   ]
  },
  {
   "cell_type": "code",
   "execution_count": 25,
   "metadata": {},
   "outputs": [
    {
     "name": "stdout",
     "output_type": "stream",
     "text": [
      "<class 'str'>\n",
      "<class 'list'>\n"
     ]
    }
   ],
   "source": [
    "a = 'python'\n",
    "print(type(a))\n",
    "a = [1, 2, 3]\n",
    "print(type(a))"
   ]
  },
  {
   "cell_type": "markdown",
   "metadata": {
    "id": "XlxUr05WB5eM"
   },
   "source": [
    "### 1-02 Python 데이터 타입 유형\n",
    "![image.png](data:image/png;base64,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)"
   ]
  },
  {
   "cell_type": "markdown",
   "metadata": {
    "id": "5WsetYmXSRCL"
   },
   "source": [
    "## 2.숫자형(Numeric type)\n",
    "\n"
   ]
  },
  {
   "cell_type": "markdown",
   "metadata": {
    "id": "HtS14qV2OFBX"
   },
   "source": [
    "### 2-01 변수 선언"
   ]
  },
  {
   "cell_type": "code",
   "execution_count": 36,
   "metadata": {
    "colab": {
     "base_uri": "https://localhost:8080/",
     "height": 35
    },
    "id": "5_U2TwntSRCM",
    "outputId": "82ce2bed-605a-4dd5-dd11-14f7eb1a703d"
   },
   "outputs": [
    {
     "name": "stdout",
     "output_type": "stream",
     "text": [
      "20\n"
     ]
    }
   ],
   "source": [
    "# 10진법 - 20에 num1 이름을 붙여보세요.\n",
    "num1 = 20\n",
    "print(num1)"
   ]
  },
  {
   "cell_type": "code",
   "execution_count": 34,
   "metadata": {
    "colab": {
     "base_uri": "https://localhost:8080/"
    },
    "id": "0TDJPT5ASRCQ",
    "outputId": "595e434d-cd83-4d5d-8957-c66c0d598386"
   },
   "outputs": [
    {
     "name": "stdout",
     "output_type": "stream",
     "text": [
      "12 12 12\n"
     ]
    }
   ],
   "source": [
    "# 정수의 표기법 - 10진법, 2진법, 8진법, 16진법\n",
    "num2 = 0b1100\n",
    "num3 = 0o14\n",
    "num4 = 0xC\n",
    "print(num2, num3, num4)  # 출력시에는 10진수로 !"
   ]
  },
  {
   "cell_type": "code",
   "execution_count": 38,
   "metadata": {
    "colab": {
     "base_uri": "https://localhost:8080/",
     "height": 35
    },
    "id": "DGFjrefWSRCa",
    "outputId": "38087966-cb31-4673-d0c6-6441fdfd1f0f"
   },
   "outputs": [
    {
     "name": "stdout",
     "output_type": "stream",
     "text": [
      "3.141592 <class 'float'>\n"
     ]
    }
   ],
   "source": [
    "# 실수 저장 - 3.141592에 대해 num5 이름을 붙여보세요.\n",
    "num5 = 3.141592  # 소수점 표기\n",
    "print(num5, type(num5))"
   ]
  },
  {
   "cell_type": "code",
   "execution_count": 40,
   "metadata": {},
   "outputs": [
    {
     "name": "stdout",
     "output_type": "stream",
     "text": [
      "0.0314 <class 'float'>\n"
     ]
    }
   ],
   "source": [
    "num6 = 3.14e-2   # 지수 표기\n",
    "print(num6, type(num6))   # 소수점 표현으로 출력"
   ]
  },
  {
   "cell_type": "code",
   "execution_count": 42,
   "metadata": {},
   "outputs": [
    {
     "name": "stdout",
     "output_type": "stream",
     "text": [
      "True <class 'bool'>\n"
     ]
    }
   ],
   "source": [
    "num7 = True  # False\n",
    "print(num7, type(num7))"
   ]
  },
  {
   "cell_type": "markdown",
   "metadata": {
    "id": "o39sL-48OfRT"
   },
   "source": [
    "### 2-02 타입확인 및 형변환 "
   ]
  },
  {
   "cell_type": "code",
   "execution_count": 41,
   "metadata": {
    "colab": {
     "base_uri": "https://localhost:8080/"
    },
    "id": "d_RmcAM_SRCH",
    "outputId": "d276d7ad-7cbb-4c05-ad57-a2762df845ff"
   },
   "outputs": [
    {
     "name": "stdout",
     "output_type": "stream",
     "text": [
      "<class 'int'> <class 'bool'> <class 'list'>\n"
     ]
    }
   ],
   "source": [
    "# 파이썬! a는 어떤 type인지 알려줄래? => type(a)\n",
    "# type이란 어떤 instance를 만든 클래스(class)의 이름을 말합니다.\n",
    "a = 77\n",
    "b = True\n",
    "c = [1, 2, 3]\n",
    "\n",
    "# a, b, c가 각각 어떤 type인지 알아보세요.\n",
    "print(type(a), type(b), type(c))"
   ]
  },
  {
   "cell_type": "code",
   "execution_count": 51,
   "metadata": {
    "colab": {
     "base_uri": "https://localhost:8080/"
    },
    "id": "QUZ3ELGiSRCp",
    "outputId": "a13acb8e-a5d1-40a7-e933-b7e79676a815"
   },
   "outputs": [
    {
     "data": {
      "text/plain": [
       "1.0"
      ]
     },
     "execution_count": 51,
     "metadata": {},
     "output_type": "execute_result"
    }
   ],
   "source": [
    "# 정수를 실수로 변환  (1 -> 1.0)\n",
    "float(1)"
   ]
  },
  {
   "cell_type": "code",
   "execution_count": 61,
   "metadata": {
    "id": "Lf9j7daySRCx"
   },
   "outputs": [
    {
     "data": {
      "text/plain": [
       "(3, 4.0, 3.36, 300.0)"
      ]
     },
     "execution_count": 61,
     "metadata": {},
     "output_type": "execute_result"
    }
   ],
   "source": [
    "# 실수를 정수로 변환 (3.56 -> 3), 소수점 아래 잘림\n",
    "int(3.999999), round(3.5, 0), round(3.357, 2), round(345.123, -2)"
   ]
  },
  {
   "cell_type": "code",
   "execution_count": 62,
   "metadata": {
    "id": "KcfrD_7HP4lJ"
   },
   "outputs": [
    {
     "name": "stdout",
     "output_type": "stream",
     "text": [
      "123 <class 'int'> 3.14 <class 'float'>\n"
     ]
    }
   ],
   "source": [
    "# 문자열을 정수, 실수로 변환 (\"123\" -> 123,  \"3.14\" -> 3.14)\n",
    "a = int(\"123\")\n",
    "b = float(\"3.14\")\n",
    "print(a, type(a), b, type(b))"
   ]
  },
  {
   "cell_type": "code",
   "execution_count": 63,
   "metadata": {},
   "outputs": [
    {
     "name": "stdout",
     "output_type": "stream",
     "text": [
      "123 <class 'int'> 3.14 <class 'float'>\n"
     ]
    }
   ],
   "source": [
    "a = \"123\"\n",
    "b = \"3.14\"\n",
    "a1 = int(a)\n",
    "b1 = float(b)\n",
    "print(a1, type(a1), b1, type(b1))"
   ]
  },
  {
   "cell_type": "code",
   "execution_count": 66,
   "metadata": {
    "id": "-Y1WPxqAQQYy"
   },
   "outputs": [
    {
     "data": {
      "text/plain": [
       "(0, 1, 2, 0)"
      ]
     },
     "execution_count": 66,
     "metadata": {},
     "output_type": "execute_result"
    }
   ],
   "source": [
    "# bool을 정수로 변환 (False -> 0)\n",
    "# 객체를 콤마로 나열하면 - 튜플 객체가 생성됨\n",
    "int(False), int(True), True + True, True * False"
   ]
  },
  {
   "cell_type": "code",
   "execution_count": 67,
   "metadata": {},
   "outputs": [
    {
     "name": "stdout",
     "output_type": "stream",
     "text": [
      "(1, 2, 3) <class 'tuple'>\n"
     ]
    }
   ],
   "source": [
    "a = (1, 2, 3)\n",
    "print(a, type(a))"
   ]
  },
  {
   "cell_type": "code",
   "execution_count": 69,
   "metadata": {},
   "outputs": [
    {
     "name": "stdout",
     "output_type": "stream",
     "text": [
      "(1,) <class 'tuple'>\n"
     ]
    }
   ],
   "source": [
    "a = 1, \n",
    "print(a, type(a))"
   ]
  },
  {
   "cell_type": "code",
   "execution_count": 72,
   "metadata": {
    "id": "OnTBZwmLSRC2"
   },
   "outputs": [
    {
     "data": {
      "text/plain": [
       "(True, False, True, True, False)"
      ]
     },
     "execution_count": 72,
     "metadata": {},
     "output_type": "execute_result"
    }
   ],
   "source": [
    "# 정수를 bool 타입으로 변환 (1 -> True) (0 -> False)\n",
    "bool(1), bool(0), bool(100), bool(-5), bool(0.0)"
   ]
  },
  {
   "cell_type": "code",
   "execution_count": 50,
   "metadata": {},
   "outputs": [
    {
     "name": "stdout",
     "output_type": "stream",
     "text": [
      "30\n",
      "GoodMorning\n"
     ]
    }
   ],
   "source": [
    "# 같은 연산자(함수)도 타입에 따라 다른 동작을 할 수 있다\n",
    "# +, *, / 를 넣어보세요.\n",
    "a, b = 10, 20\n",
    "print(a + b)\n",
    "a, b = 'Good', 'Morning'\n",
    "print(a + b)"
   ]
  },
  {
   "cell_type": "markdown",
   "metadata": {
    "id": "mAh15MFSOs1l"
   },
   "source": [
    "### 2-03 산술 연산자"
   ]
  },
  {
   "cell_type": "markdown",
   "metadata": {
    "id": "qqjrRn0_KEtn"
   },
   "source": [
    "![image.png](data:image/png;base64,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)"
   ]
  },
  {
   "cell_type": "code",
   "execution_count": 73,
   "metadata": {
    "colab": {
     "base_uri": "https://localhost:8080/",
     "height": 35
    },
    "id": "jl71iDuiSRCl",
    "outputId": "989056b8-1a63-4ad8-c455-09c5e9a7c86c"
   },
   "outputs": [
    {
     "data": {
      "text/plain": [
       "(30, -10, 200, 0.5, 0, 10)"
      ]
     },
     "execution_count": 73,
     "metadata": {},
     "output_type": "execute_result"
    }
   ],
   "source": [
    "A, B = 10, 20   # A는 10, B는 20을 reference 함\n",
    "\n",
    "# 산술연산 (+, -, *, /, //, %)\n",
    "A+B, A-B, A*B, A/B, A//B, A%B"
   ]
  },
  {
   "cell_type": "code",
   "execution_count": 76,
   "metadata": {
    "colab": {
     "base_uri": "https://localhost:8080/",
     "height": 35
    },
    "id": "rzsG1v_JGbhc",
    "outputId": "115df77d-53a5-47c7-e00d-695680b86d75"
   },
   "outputs": [
    {
     "name": "stdout",
     "output_type": "stream",
     "text": [
      "3 1 (3, 1)\n"
     ]
    }
   ],
   "source": [
    "# divmod(x, y) : (몫, 나머지)를 반환하는 함수\n",
    "# pow(x, y) : x**y를 반환하는 함수\n",
    "A, B = 10, 3\n",
    "print(A//B, A%B, divmod(A, B))"
   ]
  },
  {
   "cell_type": "code",
   "execution_count": 83,
   "metadata": {},
   "outputs": [
    {
     "data": {
      "text/plain": [
       "(1024, 1024, 1, 1, 1, 3)"
      ]
     },
     "execution_count": 83,
     "metadata": {},
     "output_type": "execute_result"
    }
   ],
   "source": [
    "a, b = -1, 2\n",
    "pow(2, 10), 2**10, pow(-1, 2), (-1)**2, a**b, -1 * -3"
   ]
  },
  {
   "cell_type": "markdown",
   "metadata": {
    "id": "TRRU5dA8KSXe"
   },
   "source": [
    "### 2-04 비교 및 논리 연산자"
   ]
  },
  {
   "cell_type": "markdown",
   "metadata": {
    "id": "G-QUB5SDKXKt"
   },
   "source": [
    "![image.png](data:image/png;base64,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)"
   ]
  },
  {
   "cell_type": "markdown",
   "metadata": {
    "id": "8iYqk8BuHEjr"
   },
   "source": [
    "### 2-05 False로 취급 받는 것\n",
    "- **None, False, 숫자형의 0 (0, 0.0, 0j), 빈 시퀀스('', [], ()), 빈 맵({ })**\n",
    "- False가 아닌 것은 모두 True"
   ]
  },
  {
   "cell_type": "code",
   "execution_count": 115,
   "metadata": {
    "colab": {
     "base_uri": "https://localhost:8080/"
    },
    "id": "4myqwOPnKzdo",
    "outputId": "1b506e0f-e72f-40e8-d5a5-19ee21f6f944"
   },
   "outputs": [
    {
     "data": {
      "text/plain": [
       "(False, False, False, False, False, False, False, False, False)"
      ]
     },
     "execution_count": 115,
     "metadata": {},
     "output_type": "execute_result"
    }
   ],
   "source": [
    "bool(None), bool(False), bool(0), bool(0.0), bool(0j), bool(''), bool([]), bool(()), bool({})"
   ]
  },
  {
   "cell_type": "code",
   "execution_count": 117,
   "metadata": {
    "colab": {
     "base_uri": "https://localhost:8080/"
    },
    "id": "NpDDMs7PK7et",
    "outputId": "650765b0-2359-47d3-dbf8-987642e3f56b"
   },
   "outputs": [
    {
     "data": {
      "text/plain": [
       "(True, True, True, True, True)"
      ]
     },
     "execution_count": 117,
     "metadata": {},
     "output_type": "execute_result"
    }
   ],
   "source": [
    "bool(1), bool(3.14), bool('A'), bool([1, 2]), bool(-5)"
   ]
  },
  {
   "cell_type": "markdown",
   "metadata": {
    "id": "1uGGjZsfUt1r"
   },
   "source": [
    "### 2-06 비교 연산자 연습\n",
    "- ==, !=, >=, <=, >, <  : 값 비교 연산\n",
    "- is, is not : 객체 비교 연산 (id(A) == id(B), id(A) != id(B)\n"
   ]
  },
  {
   "cell_type": "code",
   "execution_count": 85,
   "metadata": {
    "id": "6UyLSfzjSRDE"
   },
   "outputs": [
    {
     "name": "stdout",
     "output_type": "stream",
     "text": [
      "True\n"
     ]
    }
   ],
   "source": [
    "A = 300\n",
    "B = 300\n",
    "# A와 B의 '값'이 같은지 알아보는 식을 작성하세요.\n",
    "print(A == B)"
   ]
  },
  {
   "cell_type": "code",
   "execution_count": 114,
   "metadata": {},
   "outputs": [
    {
     "name": "stdout",
     "output_type": "stream",
     "text": [
      "False : A != B\n"
     ]
    }
   ],
   "source": [
    "A, B = 300, 301\n",
    "if A % 2:\n",
    "    print('True : A == B')\n",
    "else:\n",
    "    print('False : A != B')"
   ]
  },
  {
   "cell_type": "code",
   "execution_count": 97,
   "metadata": {},
   "outputs": [
    {
     "name": "stdout",
     "output_type": "stream",
     "text": [
      "100 10\n"
     ]
    }
   ],
   "source": [
    "A = 100\n",
    "B = 10\n",
    "print(A, B)"
   ]
  },
  {
   "cell_type": "code",
   "execution_count": 98,
   "metadata": {},
   "outputs": [
    {
     "name": "stdout",
     "output_type": "stream",
     "text": [
      "90\n"
     ]
    }
   ],
   "source": [
    "a = 100\n",
    "a = 20\n",
    "a = 90\n",
    "print(a)"
   ]
  },
  {
   "cell_type": "code",
   "execution_count": 103,
   "metadata": {
    "id": "pXnK6XPaSRDJ",
    "outputId": "9dca18e1-5854-415d-d0da-e1aaf8618a0f"
   },
   "outputs": [
    {
     "data": {
      "text/plain": [
       "False"
      ]
     },
     "execution_count": 103,
     "metadata": {},
     "output_type": "execute_result"
    }
   ],
   "source": [
    "A = 300\n",
    "B = 300\n",
    "# A와 B의 '값'이 다른지 알아보는 식을 작성하세요.\n",
    "A != B"
   ]
  },
  {
   "cell_type": "code",
   "execution_count": 105,
   "metadata": {
    "colab": {
     "base_uri": "https://localhost:8080/"
    },
    "id": "RXLKE1FYMH4l",
    "outputId": "5bf0b118-d692-4c62-bcfe-219b47bf23d9"
   },
   "outputs": [
    {
     "data": {
      "text/plain": [
       "(False, 139793276058288, 139793276057264)"
      ]
     },
     "execution_count": 105,
     "metadata": {},
     "output_type": "execute_result"
    }
   ],
   "source": [
    "A = 300\n",
    "B = 300\n",
    "# A와 B의 '객체'가 같은지 알아보는 식을 작성하세요.\n",
    "A is B, id(A), id(B)"
   ]
  },
  {
   "cell_type": "code",
   "execution_count": 109,
   "metadata": {},
   "outputs": [
    {
     "data": {
      "text/plain": [
       "int"
      ]
     },
     "execution_count": 109,
     "metadata": {},
     "output_type": "execute_result"
    }
   ],
   "source": [
    "type(10)"
   ]
  },
  {
   "cell_type": "code",
   "execution_count": 107,
   "metadata": {
    "colab": {
     "base_uri": "https://localhost:8080/"
    },
    "id": "qiWSonnmb107",
    "outputId": "a4bd35eb-3755-4a42-ddc9-96d222293200"
   },
   "outputs": [
    {
     "data": {
      "text/plain": [
       "(True, True)"
      ]
     },
     "execution_count": 107,
     "metadata": {},
     "output_type": "execute_result"
    }
   ],
   "source": [
    "# A is B (A와 B가 같은 객체인가?)\n",
    "# 10의 type은 int 인가 알아보는 방법\n",
    "type(10) is int, type(10) == int"
   ]
  },
  {
   "cell_type": "markdown",
   "metadata": {
    "id": "rqefcPOoZmge"
   },
   "source": [
    "### 2-07 논리 연산자 연습"
   ]
  },
  {
   "cell_type": "code",
   "execution_count": 121,
   "metadata": {
    "id": "mWqU_zl4SRDk"
   },
   "outputs": [
    {
     "name": "stdout",
     "output_type": "stream",
     "text": [
      "ch는 대문자가 아님\n"
     ]
    }
   ],
   "source": [
    "# X and Y (X, Y 모두 True 인 경우 True)\n",
    "ch = 'a'\n",
    "\n",
    "# ch가 'A'보다 크거나 같고, 'Z' 보다 작거나 같은 경우 True인 식을 작성하여보세요.\n",
    "if (ch >= 'A') and (ch <= 'Z'):\n",
    "    print('ch는 대문자')\n",
    "else:\n",
    "    print('ch는 대문자가 아님')"
   ]
  },
  {
   "cell_type": "code",
   "execution_count": 122,
   "metadata": {},
   "outputs": [
    {
     "name": "stdout",
     "output_type": "stream",
     "text": [
      "ch는 대문자가 아님\n"
     ]
    }
   ],
   "source": [
    "# X and Y (X, Y 모두 True 인 경우 True)\n",
    "ch = 'a'\n",
    "\n",
    "# ch가 'A'보다 크거나 같고, 'Z' 보다 작거나 같은 경우 True인 식을 작성하여보세요.\n",
    "if 'A' <= ch <= 'Z':\n",
    "    print('ch는 대문자')\n",
    "else:\n",
    "    print('ch는 대문자가 아님')"
   ]
  },
  {
   "cell_type": "code",
   "execution_count": null,
   "metadata": {},
   "outputs": [],
   "source": [
    "# X and Y (X, Y 모두 True 인 경우 True)\n",
    "ch = 'a'\n",
    "\n",
    "# ch가 'A'보다 크거나 같고, 'Z' 보다 작거나 같은 경우 True인 식을 작성하여보세요.\n",
    "if ch.isupper():   # str.isupper() - str이 대문자일 때 True, 아니면 False를 반환한다\n",
    "    print('ch는 대문자')\n",
    "else:\n",
    "    print('ch는 대문자가 아님')"
   ]
  },
  {
   "cell_type": "code",
   "execution_count": 125,
   "metadata": {
    "id": "b4zlake1Nk3D"
   },
   "outputs": [
    {
     "name": "stdout",
     "output_type": "stream",
     "text": [
      "Accept\n"
     ]
    }
   ],
   "source": [
    "# X or Y (X, Y 중 하나만 True 라도 True)\n",
    "score = 89\n",
    "\n",
    "# score가 100보다 크거나, 0보다 작은 경우 True인 식을 작성하여보세요.\n",
    "if (score > 100) or (score < 0):\n",
    "    print('Error')\n",
    "else:\n",
    "    print('Accept')"
   ]
  },
  {
   "cell_type": "code",
   "execution_count": 126,
   "metadata": {
    "id": "a5Jfl6aKSRDv"
   },
   "outputs": [
    {
     "name": "stdout",
     "output_type": "stream",
     "text": [
      "a is 0\n"
     ]
    }
   ],
   "source": [
    "# not X (X가 True 몇 False, False이면 True)\n",
    "a = 0\n",
    "\n",
    "# a가 0일 때 True인 식을 작성해 보세요.\n",
    "if not a:\n",
    "    print('a is 0')"
   ]
  },
  {
   "cell_type": "code",
   "execution_count": 127,
   "metadata": {},
   "outputs": [
    {
     "data": {
      "text/plain": [
       "(False, True)"
      ]
     },
     "execution_count": 127,
     "metadata": {},
     "output_type": "execute_result"
    }
   ],
   "source": [
    "not True, not False"
   ]
  },
  {
   "cell_type": "code",
   "execution_count": 128,
   "metadata": {},
   "outputs": [
    {
     "name": "stdout",
     "output_type": "stream",
     "text": [
      "a is 0\n"
     ]
    }
   ],
   "source": [
    "# a가 0과 같을 때 True\n",
    "if a == 0:\n",
    "    print('a is 0')"
   ]
  },
  {
   "cell_type": "markdown",
   "metadata": {
    "id": "Gyp4dN_tae44"
   },
   "source": [
    "### 2-08 멤버쉽 연산자 "
   ]
  },
  {
   "cell_type": "code",
   "execution_count": null,
   "metadata": {},
   "outputs": [],
   "source": []
  },
  {
   "cell_type": "code",
   "execution_count": 130,
   "metadata": {
    "id": "gXVf4NtuSRDz",
    "outputId": "8b05aa5d-e1da-4167-c65f-671c5c95a627"
   },
   "outputs": [
    {
     "name": "stdout",
     "output_type": "stream",
     "text": [
      "True\n"
     ]
    }
   ],
   "source": [
    "# x in A  (A에 x 가 포함되어 있는가?)\n",
    "# [1, 2, 3, 4, 5] 리스트에 1 이 포함되어 있는지 물어보세요~\n",
    "a = [1, 2, 3, 4, 5] \n",
    "b = 5\n",
    "if b in a:\n",
    "    print('True')"
   ]
  },
  {
   "cell_type": "code",
   "execution_count": 131,
   "metadata": {
    "id": "WYz7MW4gSRD3",
    "outputId": "bc3dee8f-f5be-4e6e-97e1-00d5410d0554"
   },
   "outputs": [
    {
     "name": "stdout",
     "output_type": "stream",
     "text": [
      "True\n"
     ]
    }
   ],
   "source": [
    "# x not in A  (A에 x 가 포함되어 있는가?)\n",
    "# [1, 3, 5, 7, 9] 리스트에 10 이 포함되어 있지 않은지 물어보세요~\n",
    "\n",
    "a = [1, 3, 5, 7, 9] \n",
    "b = 10\n",
    "if b not in a:\n",
    "    print('True')"
   ]
  },
  {
   "cell_type": "markdown",
   "metadata": {
    "id": "v3W2Sk_fSRD5"
   },
   "source": [
    "## 3.문자열\n"
   ]
  },
  {
   "cell_type": "markdown",
   "metadata": {
    "id": "LB-jIFYcf0hu"
   },
   "source": [
    "### 3-01 문자열 선언\n",
    "\n",
    "\n",
    "\n"
   ]
  },
  {
   "cell_type": "code",
   "execution_count": 132,
   "metadata": {
    "colab": {
     "base_uri": "https://localhost:8080/",
     "height": 35
    },
    "id": "4LhBEoi7SRD6",
    "outputId": "f7e87159-6dc4-46d4-9902-c3ce34583b6f"
   },
   "outputs": [
    {
     "data": {
      "text/plain": [
       "str"
      ]
     },
     "execution_count": 132,
     "metadata": {},
     "output_type": "execute_result"
    }
   ],
   "source": [
    "# \"Python\" 의 type은 무엇인가?\n",
    "type(\"Python\")"
   ]
  },
  {
   "cell_type": "code",
   "execution_count": 133,
   "metadata": {
    "colab": {
     "base_uri": "https://localhost:8080/",
     "height": 35
    },
    "id": "yqpC_nCYSRD9",
    "outputId": "2285df81-12fe-4c85-c9b7-c340031e0d29"
   },
   "outputs": [
    {
     "data": {
      "text/plain": [
       "'Hello Jaen'"
      ]
     },
     "execution_count": 133,
     "metadata": {},
     "output_type": "execute_result"
    }
   ],
   "source": [
    "# \"Hello Jaen\"에 myStr1 이라는 이름을 붙여 보세요. (큰 따옴표)\n",
    "myStr1 = \"Hello Jaen\"\n",
    "myStr1"
   ]
  },
  {
   "cell_type": "code",
   "execution_count": 134,
   "metadata": {
    "colab": {
     "base_uri": "https://localhost:8080/",
     "height": 35
    },
    "id": "JpBKrwBqSREB",
    "outputId": "5f023a54-8174-4151-acea-6b2cc60ad530"
   },
   "outputs": [
    {
     "data": {
      "text/plain": [
       "'Python is Easy'"
      ]
     },
     "execution_count": 134,
     "metadata": {},
     "output_type": "execute_result"
    }
   ],
   "source": [
    "# 'Python is Easy'에 myStr2 라는 이름을 붙여 보세요. (작은 따옴표)\n",
    "myStr2 = 'Python is Easy'\n",
    "myStr2"
   ]
  },
  {
   "cell_type": "code",
   "execution_count": 141,
   "metadata": {
    "colab": {
     "base_uri": "https://localhost:8080/",
     "height": 35
    },
    "id": "rjuYxfjkSREE",
    "outputId": "dde3200c-e68e-4397-95a8-cf8502bb28c8"
   },
   "outputs": [
    {
     "data": {
      "text/plain": [
       "'Hello JA,\\nJA is a Big Company'"
      ]
     },
     "metadata": {},
     "output_type": "display_data"
    },
    {
     "name": "stdout",
     "output_type": "stream",
     "text": [
      "Hello JA,\n",
      "JA is a Big Company\n"
     ]
    }
   ],
   "source": [
    "# \"\"\"Hello JA, JA is a Big Company\"\"\" 에 myStr3 이라는 이름을 붙여 보세요.\n",
    "myStr3 = 'Hello JA,\\nJA is a Big Company'\n",
    "display(myStr3)\n",
    "print(myStr3)"
   ]
  },
  {
   "cell_type": "code",
   "execution_count": 137,
   "metadata": {
    "colab": {
     "base_uri": "https://localhost:8080/"
    },
    "id": "WZvW44C3SREH",
    "outputId": "afd13315-9844-4fb6-ca22-789809b061b3"
   },
   "outputs": [
    {
     "name": "stdout",
     "output_type": "stream",
     "text": [
      "Hello JA, JA is a Big Company\n",
      "Hi Jerry\n"
     ]
    }
   ],
   "source": [
    "# \"\"\", ''' 는 enter누르기도 가능!\n",
    "myStr4 = \"\"\"Hello JA, JA is a Big Company\n",
    "Hi Jerry\"\"\"\n",
    "print(myStr4)"
   ]
  },
  {
   "cell_type": "code",
   "execution_count": null,
   "metadata": {
    "id": "c1AwZcMShQ5R"
   },
   "outputs": [],
   "source": [
    "# 불가능한 줄바꿈!\n",
    "impossible = 'this is\n",
    "impossible'"
   ]
  },
  {
   "cell_type": "code",
   "execution_count": 143,
   "metadata": {
    "colab": {
     "base_uri": "https://localhost:8080/"
    },
    "id": "3Nv3p-6bhzE-",
    "outputId": "bc297f73-7df0-4ec4-bd87-2be0de27ff22"
   },
   "outputs": [
    {
     "data": {
      "text/plain": [
       "'this is possible'"
      ]
     },
     "execution_count": 143,
     "metadata": {},
     "output_type": "execute_result"
    }
   ],
   "source": [
    "# \\를 사용해서 enter키의 \"기능을 제거\"하면 가능\n",
    "# \\ : 연결기능으로 많이 사용됨\n",
    "possible = 'this is \\\n",
    "possible'\n",
    "\n",
    "possible"
   ]
  },
  {
   "cell_type": "code",
   "execution_count": 6,
   "metadata": {},
   "outputs": [
    {
     "data": {
      "text/plain": [
       "\"I'm a boy\""
      ]
     },
     "metadata": {},
     "output_type": "display_data"
    },
    {
     "data": {
      "text/plain": [
       "\"I'm a boy\""
      ]
     },
     "metadata": {},
     "output_type": "display_data"
    },
    {
     "data": {
      "text/plain": [
       "'you look so \"HAPPY\" today. \\\\'"
      ]
     },
     "metadata": {},
     "output_type": "display_data"
    }
   ],
   "source": [
    "a = 'I\\'m a boy'\n",
    "b = \"I'm a boy\"\n",
    "c = 'you look so \"HAPPY\" today. \\\\'\n",
    "display(a, b, c)"
   ]
  },
  {
   "cell_type": "markdown",
   "metadata": {
    "id": "UQQ7uM8QhKLC"
   },
   "source": [
    "### 3-02 Escape Sequence"
   ]
  },
  {
   "cell_type": "markdown",
   "metadata": {
    "id": "3ujiwqzUS3rz"
   },
   "source": [
    "![image.png](data:image/png;base64,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)"
   ]
  },
  {
   "cell_type": "code",
   "execution_count": 149,
   "metadata": {
    "id": "XREZaLr7SREJ",
    "outputId": "968c6995-507f-4efb-a9e3-dad3b8198e5d"
   },
   "outputs": [
    {
     "name": "stdout",
     "output_type": "stream",
     "text": [
      "안녕\n",
      "하세요\n"
     ]
    }
   ],
   "source": [
    "# \\n : 줄바꿈 \n",
    "print(\"안녕\\n하세요\")"
   ]
  },
  {
   "cell_type": "code",
   "execution_count": 150,
   "metadata": {
    "id": "iOeJ3TL5SREM",
    "outputId": "1bb7f16b-6050-4707-d5a5-2a8e728f526a"
   },
   "outputs": [
    {
     "name": "stdout",
     "output_type": "stream",
     "text": [
      "안녕\t하세요\n"
     ]
    }
   ],
   "source": [
    "# \\t : 탭(tab)\n",
    "print(\"안녕\\t하세요\")"
   ]
  },
  {
   "cell_type": "code",
   "execution_count": 151,
   "metadata": {
    "id": "7gdZhwR_SREQ",
    "outputId": "3d69c591-3f9d-47e6-e2e7-c7767221b9c0"
   },
   "outputs": [
    {
     "name": "stdout",
     "output_type": "stream",
     "text": [
      "안녕\r",
      "하세요\n"
     ]
    }
   ],
   "source": [
    "# \\r : 행의 맨 앞으로 이동\n",
    "print(\"안녕\\r하세요\")"
   ]
  },
  {
   "cell_type": "code",
   "execution_count": 152,
   "metadata": {
    "id": "xy6Dz7cWSREW",
    "outputId": "fff5c427-4a25-41bf-8d05-9b0099e98002"
   },
   "outputs": [
    {
     "name": "stdout",
     "output_type": "stream",
     "text": [
      "\\\n"
     ]
    }
   ],
   "source": [
    "# \\\\ : \\문자 출력  \\의 기능을 제거하기 위해 '\\' 사용\n",
    "print(\"\\\\\")"
   ]
  },
  {
   "cell_type": "code",
   "execution_count": 154,
   "metadata": {
    "id": "fLxF7_hzSREc",
    "outputId": "4b7b35fb-c607-4b39-991c-83464630e07b"
   },
   "outputs": [
    {
     "name": "stdout",
     "output_type": "stream",
     "text": [
      "\"\n",
      "\"\n"
     ]
    }
   ],
   "source": [
    "# \\\" : \"문자 출력 \"의 기능을 제거하기 위해 '\\' 사용\n",
    "print(\"\\\"\")\n",
    "print('\"')"
   ]
  },
  {
   "cell_type": "code",
   "execution_count": 157,
   "metadata": {
    "id": "GuV51nwcSREi",
    "outputId": "79826ebd-134c-4470-802a-765eff5bbf86"
   },
   "outputs": [
    {
     "name": "stdout",
     "output_type": "stream",
     "text": [
      "'\n",
      "'\n"
     ]
    }
   ],
   "source": [
    "# \\' : '문자 출력 '의 기능을 제거하기 위해 '\\' 사용\n",
    "print('\\'')\n",
    "print(\"'\")"
   ]
  },
  {
   "cell_type": "code",
   "execution_count": 22,
   "metadata": {},
   "outputs": [
    {
     "name": "stdout",
     "output_type": "stream",
     "text": [
      "1 2 3 4\n"
     ]
    }
   ],
   "source": [
    "# 자리를 분리해서 출력해 보세요\n",
    "a = 1234\n",
    "a1 = a // 1000\n",
    "a2 = a // 100 % 10\n",
    "a3 = a // 10 % 10\n",
    "a4 = a % 10\n",
    "print(a1, a2, a3, a4)"
   ]
  },
  {
   "cell_type": "code",
   "execution_count": 19,
   "metadata": {},
   "outputs": [
    {
     "name": "stdout",
     "output_type": "stream",
     "text": [
      "1 2 3\n"
     ]
    }
   ],
   "source": [
    "A, B = 10, 20   # name unpack\n",
    "A, B, C = 1, 2, 3\n",
    "print(A, B, C)"
   ]
  },
  {
   "cell_type": "code",
   "execution_count": 20,
   "metadata": {},
   "outputs": [
    {
     "name": "stdout",
     "output_type": "stream",
     "text": [
      "2 6 20\n"
     ]
    }
   ],
   "source": [
    "# 1분 60초, 1시간 60분\n",
    "# //, %, divmod(A, B)\n",
    "s = 7580\n",
    "m, s = divmod(s, 60)   # s // 60, s % 60 \n",
    "h, m = divmod(m, 60)   # m // 60, m % 60\n",
    "print(h, m, s)"
   ]
  },
  {
   "cell_type": "code",
   "execution_count": 15,
   "metadata": {},
   "outputs": [
    {
     "name": "stdout",
     "output_type": "stream",
     "text": [
      "2 6 20\n"
     ]
    }
   ],
   "source": [
    "s = 7580\n",
    "h = s // 3600\n",
    "#m = (s-h*3600) // 60\n",
    "m = (s % 3600) // 60\n",
    "m = int((s - h * 3600)/60)\n",
    "#s = s % 60\n",
    "s %= 60\n",
    "print(h, m, s)"
   ]
  },
  {
   "cell_type": "code",
   "execution_count": 13,
   "metadata": {},
   "outputs": [
    {
     "name": "stdout",
     "output_type": "stream",
     "text": [
      "50\n"
     ]
    }
   ],
   "source": [
    "a = 10\n",
    "a = a + 20\n",
    "a += 20  # 선호되는 방식\n",
    "print(a)"
   ]
  },
  {
   "cell_type": "markdown",
   "metadata": {
    "id": "HXnL3Tn-jAwZ"
   },
   "source": [
    "### 3-03 문자열 연산자\n",
    "Sequence type (tuple, list, str 공통)"
   ]
  },
  {
   "cell_type": "code",
   "execution_count": 24,
   "metadata": {
    "id": "qFTtzWRUSREq"
   },
   "outputs": [
    {
     "name": "stdout",
     "output_type": "stream",
     "text": [
      "Python\n"
     ]
    }
   ],
   "source": [
    "# A + B: A, B 두 문자열을 연결하여 새로운 문자열 생성\n",
    "A = 'Py'\n",
    "B = 'thon'\n",
    "# A, B를 연결해 보세요!\n",
    "C = A + B\n",
    "print(C)"
   ]
  },
  {
   "cell_type": "code",
   "execution_count": 26,
   "metadata": {
    "id": "I0w2lb1rSREw"
   },
   "outputs": [
    {
     "data": {
      "text/plain": [
       "'PythonPythonPython'"
      ]
     },
     "execution_count": 26,
     "metadata": {},
     "output_type": "execute_result"
    }
   ],
   "source": [
    "# A * n 또는 n * A : 문자열을 n번 복제하여 새로운 문자열 생성\n",
    "A = 'Python'\n",
    "\n",
    "# A를 3번 반복 복제해 보세요!\n",
    "A * 3"
   ]
  },
  {
   "cell_type": "code",
   "execution_count": 29,
   "metadata": {},
   "outputs": [
    {
     "name": "stdout",
     "output_type": "stream",
     "text": [
      "------------------------------\n"
     ]
    }
   ],
   "source": [
    "print('-' * 30)"
   ]
  },
  {
   "cell_type": "code",
   "execution_count": 30,
   "metadata": {},
   "outputs": [
    {
     "data": {
      "text/plain": [
       "[1, 2, 3, 4, 5, 6]"
      ]
     },
     "execution_count": 30,
     "metadata": {},
     "output_type": "execute_result"
    }
   ],
   "source": [
    "a = [1, 2, 3]\n",
    "b = [4, 5, 6]\n",
    "a + b"
   ]
  },
  {
   "cell_type": "code",
   "execution_count": 31,
   "metadata": {},
   "outputs": [
    {
     "data": {
      "text/plain": [
       "array([5, 7, 9])"
      ]
     },
     "execution_count": 31,
     "metadata": {},
     "output_type": "execute_result"
    }
   ],
   "source": [
    "import numpy as np\n",
    "a = np.array([1, 2, 3])\n",
    "b = np.array([4, 5, 6])\n",
    "a + b"
   ]
  },
  {
   "cell_type": "code",
   "execution_count": 38,
   "metadata": {
    "id": "qTa1IGpWSRE0",
    "outputId": "8184ee34-0d2f-4de6-e5d8-98958c6ca87d"
   },
   "outputs": [
    {
     "name": "stdout",
     "output_type": "stream",
     "text": [
      "6\n"
     ]
    },
    {
     "data": {
      "text/plain": [
       "('p', 'p', 'p')"
      ]
     },
     "execution_count": 38,
     "metadata": {},
     "output_type": "execute_result"
    }
   ],
   "source": [
    "# subscription : Sequence Container에서 특정 item을 가져오는 것\n",
    "myStr = \"python\"   # 0 1 2 3 4 5,    -6 -5 -4 -3 -2 -1\n",
    "print(len(myStr))\n",
    "# myStr에서 첫 번째 글자인 'p'를 가져와 출력해 보세요\n",
    "myStr[0], myStr[-6], myStr[-len(myStr)]"
   ]
  },
  {
   "cell_type": "markdown",
   "metadata": {
    "id": "Y-llrWH8T_xQ"
   },
   "source": [
    "![image.png](data:image/png;base64,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)"
   ]
  },
  {
   "cell_type": "code",
   "execution_count": 41,
   "metadata": {
    "id": "vCAHLJpFSRE9",
    "outputId": "7aaedaca-137a-41f2-ac4e-34627937f566"
   },
   "outputs": [
    {
     "data": {
      "text/plain": [
       "('n', 'n', 'n')"
      ]
     },
     "execution_count": 41,
     "metadata": {},
     "output_type": "execute_result"
    }
   ],
   "source": [
    "# myStr에서 여섯 번째 글자인 'n'을 가져와 출력해 보세요\n",
    "myStr[5], myStr[-1], myStr[len(myStr)-1]"
   ]
  },
  {
   "cell_type": "code",
   "execution_count": 42,
   "metadata": {
    "id": "pJZ5GT_wSRFJ",
    "outputId": "975e4268-20d8-450a-bbe6-9e85b782a693"
   },
   "outputs": [
    {
     "data": {
      "text/plain": [
       "'n'"
      ]
     },
     "execution_count": 42,
     "metadata": {},
     "output_type": "execute_result"
    }
   ],
   "source": [
    "# 음수 인덱스(index)를 사용해 myStr에서 여섯 번째 글자인 'n'을 가져와 출력해 보세요\n",
    "myStr[-1]"
   ]
  },
  {
   "cell_type": "code",
   "execution_count": 43,
   "metadata": {
    "id": "hzlIW4e-SRFC",
    "outputId": "bf16d45f-f5f8-4852-c08c-872734f89cbd"
   },
   "outputs": [
    {
     "data": {
      "text/plain": [
       "('yth', 'yth')"
      ]
     },
     "execution_count": 43,
     "metadata": {},
     "output_type": "execute_result"
    }
   ],
   "source": [
    "# slicing: slice(start:stop:step)을 사용하여 부분 container를 가져오는 것\n",
    "# start : 0 일때 생략가능\n",
    "# stop : len(str) 일때 생략가능\n",
    "# step : 1 일때 생략가능\n",
    "\n",
    "# 문자열 slicing -> 부분 문자열\n",
    "# 리스트 slicing -> 부분 리스트\n",
    "myStr = 'python'\n",
    "# 'yth'가 출력되도록 slice를 작성해 보세요.\n",
    "myStr[1:4:1], myStr[1:4]"
   ]
  },
  {
   "cell_type": "code",
   "execution_count": 44,
   "metadata": {},
   "outputs": [
    {
     "data": {
      "text/plain": [
       "[2, 3, 4]"
      ]
     },
     "execution_count": 44,
     "metadata": {},
     "output_type": "execute_result"
    }
   ],
   "source": [
    "temp = [1,2,3,4,5,6]\n",
    "temp[1:4]"
   ]
  },
  {
   "cell_type": "code",
   "execution_count": 46,
   "metadata": {
    "id": "1yOxrsi3T2vC"
   },
   "outputs": [
    {
     "data": {
      "text/plain": [
       "('ython', 'ython', 'ython')"
      ]
     },
     "execution_count": 46,
     "metadata": {},
     "output_type": "execute_result"
    }
   ],
   "source": [
    "# 'ython'이 출력되도록 slice를 작성해 보세요.\n",
    "myStr[1:6], myStr[1:], myStr[1::]"
   ]
  },
  {
   "cell_type": "code",
   "execution_count": 48,
   "metadata": {
    "id": "7Vkab0txUmrU"
   },
   "outputs": [
    {
     "data": {
      "text/plain": [
       "('pyth', 'pyth', 'pyth', 'pyth', 'pyth')"
      ]
     },
     "execution_count": 48,
     "metadata": {},
     "output_type": "execute_result"
    }
   ],
   "source": [
    "# 'pyth' 가 출력되도록 slice를 작성해 보세요\n",
    "myStr[:4], myStr[0:4], myStr[:4:1], myStr[:4:], myStr[:-2]"
   ]
  },
  {
   "cell_type": "code",
   "execution_count": 49,
   "metadata": {
    "id": "5ODEi0HUUyOL"
   },
   "outputs": [
    {
     "data": {
      "text/plain": [
       "('pto', 'pto', 'pto', 'pto')"
      ]
     },
     "execution_count": 49,
     "metadata": {},
     "output_type": "execute_result"
    }
   ],
   "source": [
    "# 'pto'가 출력되도록 slice를 작성해 보세요\n",
    "myStr = 'python'\n",
    "myStr[::2], myStr[0::2], myStr[0:6:2], myStr[0:5:2]"
   ]
  },
  {
   "cell_type": "code",
   "execution_count": 50,
   "metadata": {
    "id": "86GD9u_3U7Gk"
   },
   "outputs": [
    {
     "data": {
      "text/plain": [
       "('nohtyp', 'nohtyp')"
      ]
     },
     "execution_count": 50,
     "metadata": {},
     "output_type": "execute_result"
    }
   ],
   "source": [
    "# 'nohtyp' ('python'의 반대!)가 출력되도록 slice를 작성해 보세요\n",
    "myStr[-1::-1], myStr[::-1]"
   ]
  },
  {
   "cell_type": "markdown",
   "metadata": {
    "id": "w7XwhJVaSivi"
   },
   "source": [
    "### 3-04 문자열 연습문제"
   ]
  },
  {
   "cell_type": "code",
   "execution_count": 51,
   "metadata": {
    "id": "q6c9M-IqSRFO"
   },
   "outputs": [
    {
     "name": "stdout",
     "output_type": "stream",
     "text": [
      "20200522 Rainy\n"
     ]
    }
   ],
   "source": [
    "# 다음을 슬라이싱하여 날짜는 date 변수에 날씨는 weather 변수에 저장 후 출력하세요\n",
    "today = \"20200522Rainy\"\n",
    "# code here\n",
    "#date, weather = today[], today[]\n",
    "date, weather = today[:8], today[8:]\n",
    "date, weather = today[:8], today[-5:]\n",
    "print(date, weather)"
   ]
  },
  {
   "cell_type": "code",
   "execution_count": 54,
   "metadata": {
    "id": "sNulDOLVSRFR"
   },
   "outputs": [
    {
     "name": "stdout",
     "output_type": "stream",
     "text": [
      "1 1 1\n"
     ]
    }
   ],
   "source": [
    "# 다음을 인덱싱(subscription)하여 성별을 나타내는 숫자를 출력하세요.\n",
    "data = \"881120-1064533\"\n",
    "# code here\n",
    "gender1 = data[7]\n",
    "gender2 = data[7:8]  # slicing\n",
    "gender3 = data[-7]\n",
    "print(gender1, gender2, gender3)"
   ]
  },
  {
   "cell_type": "code",
   "execution_count": 57,
   "metadata": {},
   "outputs": [
    {
     "name": "stdout",
     "output_type": "stream",
     "text": [
      "('8', '8', '1', '1', '2', '0', '-', '1', '0', '6', '4', '5', '3', '3')\n"
     ]
    },
    {
     "data": {
      "text/plain": [
       "'1'"
      ]
     },
     "metadata": {},
     "output_type": "display_data"
    },
    {
     "data": {
      "text/plain": [
       "('1',)"
      ]
     },
     "metadata": {},
     "output_type": "display_data"
    },
    {
     "data": {
      "text/plain": [
       "'1'"
      ]
     },
     "metadata": {},
     "output_type": "display_data"
    }
   ],
   "source": [
    "data = tuple(\"881120-1064533\")\n",
    "print(data)\n",
    "# code here\n",
    "gender1 = data[7]\n",
    "gender2 = data[7:8]  # slicing\n",
    "gender3 = data[-7]\n",
    "display(gender1, gender2, gender3)"
   ]
  },
  {
   "cell_type": "code",
   "execution_count": 58,
   "metadata": {},
   "outputs": [
    {
     "name": "stdout",
     "output_type": "stream",
     "text": [
      "<class 'int'> <class 'tuple'>\n"
     ]
    }
   ],
   "source": [
    "a = (1)\n",
    "b = (2,)\n",
    "print(type(a), type(b))"
   ]
  },
  {
   "cell_type": "markdown",
   "metadata": {
    "id": "MMQ2QY6ClWV7"
   },
   "source": [
    "### 3-05 문자열 포맷팅\n",
    "형식(format)을 사용하여 문자열을 만드는 방법\n",
    "- % 연산자, f-string, str.format() 사용\n",
    "\n",
    " ![image.png](data:image/png;base64,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)"
   ]
  },
  {
   "cell_type": "code",
   "execution_count": 59,
   "metadata": {},
   "outputs": [
    {
     "name": "stdout",
     "output_type": "stream",
     "text": [
      "10\n"
     ]
    }
   ],
   "source": [
    "print(str(10))"
   ]
  },
  {
   "cell_type": "code",
   "execution_count": 63,
   "metadata": {},
   "outputs": [
    {
     "name": "stdout",
     "output_type": "stream",
     "text": [
      "x is 100 <class 'str'>\n",
      "x is 100 <class 'str'>\n",
      "x is 100 <class 'str'>\n"
     ]
    }
   ],
   "source": [
    "# x is 100\n",
    "x = 100\n",
    "a = 'x is %d' % (x)\n",
    "b = f'x is {x}'\n",
    "c = 'x is {}'.format(x)\n",
    "print(a, type(a))\n",
    "print(b, type(b))\n",
    "print(c, type(c))"
   ]
  },
  {
   "cell_type": "code",
   "execution_count": 64,
   "metadata": {
    "id": "nzGvWuJgSRFV"
   },
   "outputs": [
    {
     "name": "stdout",
     "output_type": "stream",
     "text": [
      "x is 100\n",
      "x is 100\n",
      "x is 100\n"
     ]
    }
   ],
   "source": [
    "#  x is 100 이 출력되도록 작성 (x값이 변경되면 값에 따라 출력내용 다름)\n",
    "x = 100\n",
    "\n",
    "# 포맷 지시자를 포함한 문자열 % (객체)\n",
    "print('x is %d' % (x))  \n",
    "# f-string\n",
    "print(f'x is {x}')\n",
    "# 문자열의 format 메서드\n",
    "print('x is {}'.format(x))"
   ]
  },
  {
   "cell_type": "code",
   "execution_count": 65,
   "metadata": {
    "colab": {
     "base_uri": "https://localhost:8080/"
    },
    "id": "_X8cTcyJSRFd",
    "outputId": "905cb536-78d1-4317-9c01-9b96e9d5b45d"
   },
   "outputs": [
    {
     "name": "stdout",
     "output_type": "stream",
     "text": [
      "I eat five apples.\n",
      "I eat five apples.\n",
      "I eat five apples.\n"
     ]
    }
   ],
   "source": [
    "cnt = 'five'  # %s 를 사용합니다\n",
    "# %, f-string, str.format을 사용하여 다음을 출력하세요.\n",
    "# I eat five apples.\n",
    "print('I eat %s apples.' % (cnt))   \n",
    "print(f'I eat {cnt} apples.')\n",
    "print('I eat {} apples.'.format(cnt))"
   ]
  },
  {
   "cell_type": "code",
   "execution_count": 67,
   "metadata": {
    "id": "BAaa5NKoSRFh"
   },
   "outputs": [
    {
     "name": "stdout",
     "output_type": "stream",
     "text": [
      "3 + 7 = 10\n",
      "3 + 7 = 10\n",
      "3 + 7 = 10\n"
     ]
    }
   ],
   "source": [
    "A = 3\n",
    "B = 7\n",
    "# 다음과 같이 출력해 보세요.\n",
    "# 3 + 7 = 11\n",
    "print('%d + %d = %d' % (A, B, A+B))\n",
    "print(f'{A} + {B} = {A+B}')\n",
    "print('{} + {} = {}'.format(A, B, A+B))"
   ]
  },
  {
   "cell_type": "code",
   "execution_count": 71,
   "metadata": {
    "id": "j5g4iVMGSRFm"
   },
   "outputs": [
    {
     "name": "stdout",
     "output_type": "stream",
     "text": [
      "A is 3.142\n",
      "A is 3.14\n",
      "A is 3.14\n"
     ]
    }
   ],
   "source": [
    "A = 3.141592\n",
    "# A is 3.14\n",
    "# 소수점 아래 2개까지 출력해 보세요.\n",
    "# %.2f, {A:.2f}, {:.2f}를 사용합니다\n",
    "print('A is %.3f' % (A))\n",
    "print(f'A is {A:.2f}')\n",
    "print('A is {:.2f}'.format(A))"
   ]
  },
  {
   "cell_type": "code",
   "execution_count": 73,
   "metadata": {
    "colab": {
     "base_uri": "https://localhost:8080/"
    },
    "id": "VTAlzuvlSRFv",
    "outputId": "9da21d34-a8e8-49e4-b3d6-f9452eea1e16"
   },
   "outputs": [
    {
     "name": "stdout",
     "output_type": "stream",
     "text": [
      "01\n",
      " 1\n",
      "01\n"
     ]
    }
   ],
   "source": [
    "# 자릿수 지정하여 정수 출력하기\n",
    "A = 1\n",
    "# %02d {:02} {A:02} : 두 자리로 정수로 문자열 만들기\n",
    "# A를 두자리로 출력하기\n",
    "print('%02d' % A)\n",
    "print(f'{A:2}')\n",
    "print('{:02}'.format(A))"
   ]
  },
  {
   "cell_type": "code",
   "execution_count": 74,
   "metadata": {
    "colab": {
     "base_uri": "https://localhost:8080/"
    },
    "id": "XXpoP5oKcSDe",
    "outputId": "b3820c4e-7018-4065-b1b0-772063761422"
   },
   "outputs": [
    {
     "name": "stdout",
     "output_type": "stream",
     "text": [
      "my name is Hong, 27 years old\n",
      "my name is Hong, 27 years old\n",
      "my name is Hong, 27 years old\n",
      "Count :   1EA, Price : $12.35\n"
     ]
    }
   ],
   "source": [
    "# str.format()\n",
    "\n",
    "# place holder : { }\n",
    "print('my name is {}, {} years old'.format('Hong', 27))\n",
    "# {idx}\n",
    "print('my name is {1}, {0} years old'.format(27, 'Hong'))\n",
    "# {key}\n",
    "print('my name is {name}, {age} years old'.format(name='Hong', age=27))\n",
    "# {:format}\n",
    "print('Count : {:3d}EA, Price : ${:.2f}'.format(1, 12.3456))"
   ]
  },
  {
   "cell_type": "code",
   "execution_count": 75,
   "metadata": {
    "colab": {
     "base_uri": "https://localhost:8080/",
     "height": 35
    },
    "id": "cHtiIO0Ddj-7",
    "outputId": "8a23782c-c876-421b-96c6-dbf232c51f3c"
   },
   "outputs": [
    {
     "data": {
      "text/plain": [
       "'my name is Hong, 27 years old'"
      ]
     },
     "execution_count": 75,
     "metadata": {},
     "output_type": "execute_result"
    }
   ],
   "source": [
    "# f-string(python 3.6+)\n",
    "\n",
    "name = 'Hong'\n",
    "age = 27\n",
    "f'my name is {name}, {age} years old'"
   ]
  },
  {
   "cell_type": "code",
   "execution_count": 76,
   "metadata": {
    "colab": {
     "base_uri": "https://localhost:8080/",
     "height": 35
    },
    "id": "QlcCf8Ezdu3-",
    "outputId": "62da5b7a-30f8-440c-89d7-08a99644aafb"
   },
   "outputs": [
    {
     "data": {
      "text/plain": [
       "'73 years left until you are 100.'"
      ]
     },
     "execution_count": 76,
     "metadata": {},
     "output_type": "execute_result"
    }
   ],
   "source": [
    "f'{100-age} years left until you are 100.'"
   ]
  },
  {
   "cell_type": "markdown",
   "metadata": {
    "id": "s87jW1SRoqCQ"
   },
   "source": [
    "### 3-06 문자열 관련 함수, 메서드\n",
    "len(str), str.isalnum(), str.isalpha(), str.isdecimal(), str.isspace(), str.istitle(),\n",
    "str.index(sub,[start,[end]]), str.startswith(prefix), str.endswith(suffix),\n",
    "str.join(iterable), str.partition(sep), str.split(sep), str.strip()\n"
   ]
  },
  {
   "cell_type": "code",
   "execution_count": 77,
   "metadata": {
    "id": "mTrKKAmPSRF8",
    "outputId": "dcd9f49c-0b94-446e-beee-453c66329cd9"
   },
   "outputs": [
    {
     "data": {
      "text/plain": [
       "5"
      ]
     },
     "execution_count": 77,
     "metadata": {},
     "output_type": "execute_result"
    }
   ],
   "source": [
    "# 문자열의 길이 구하기\n",
    "# len(x:container) : -> int\n",
    "\n",
    "A = \"Hello\"\n",
    "# A의 길이를 출력해 보세요\n",
    "len(A)"
   ]
  },
  {
   "cell_type": "code",
   "execution_count": 78,
   "metadata": {
    "id": "aCNnS7zkSRGB",
    "outputId": "76d494a9-e274-4fab-e0e7-8ac84b7621ef"
   },
   "outputs": [
    {
     "data": {
      "text/plain": [
       "['A', 'B', 'C', 'D']"
      ]
     },
     "execution_count": 78,
     "metadata": {},
     "output_type": "execute_result"
    }
   ],
   "source": [
    "# 문자열 분리(split)\n",
    "# 문자열의 split 함수를 사용하면 문자열의 list가 반환 됨\n",
    "# str.split(sep:str) -> [ ]\n",
    "b = \"A:B:C:D\"\n",
    "# b를 ':'를  seperator로 하여 분리하여 보세요.\n",
    "b.split(':')"
   ]
  },
  {
   "cell_type": "code",
   "execution_count": 81,
   "metadata": {
    "colab": {
     "base_uri": "https://localhost:8080/"
    },
    "id": "shJKpCBQq2Ba",
    "outputId": "0cfc3558-d218-4b44-e811-5a0e9a594623"
   },
   "outputs": [
    {
     "name": "stdout",
     "output_type": "stream",
     "text": [
      " \t\n",
      "\r",
      "\u000b",
      "\f",
      "\n"
     ]
    },
    {
     "data": {
      "text/plain": [
       "' \\t\\n\\r\\x0b\\x0c'"
      ]
     },
     "metadata": {},
     "output_type": "display_data"
    }
   ],
   "source": [
    "# whitespace 문자\n",
    "import string\n",
    "print(string.whitespace)\n",
    "display(string.whitespace)"
   ]
  },
  {
   "cell_type": "code",
   "execution_count": 82,
   "metadata": {
    "colab": {
     "base_uri": "https://localhost:8080/"
    },
    "id": "hGpRq8kLs4II",
    "outputId": "e4aab8c0-0df7-4b44-d9c4-cededcf1be22"
   },
   "outputs": [
    {
     "name": "stdout",
     "output_type": "stream",
     "text": [
      "['A', 'B', 'C'] ['', '', '', '', 'A', '', '', 'B', '', 'C', '', '', '']\n"
     ]
    }
   ],
   "source": [
    "# split의 구분자를 지정하지 않으면?\n",
    "# 연속된 whitespace 문자를 1개의 구분자로 취급합니다.\n",
    "A = '    A   B  C   ' #'\\t\\nA\\nB     C   \\n\\r'\n",
    "\n",
    "# 구분자를 지정하지 않은 경우와 공백(' ')을 지정한 경우를 비교해 보세요.\n",
    "B = A.split()\n",
    "C = A.split(' ')\n",
    "print(B, C)"
   ]
  },
  {
   "cell_type": "code",
   "execution_count": 84,
   "metadata": {
    "colab": {
     "base_uri": "https://localhost:8080/"
    },
    "id": "qX4FdQhDri-J",
    "outputId": "447a5744-d28f-4480-9c89-442c499ef45f"
   },
   "outputs": [
    {
     "name": "stdout",
     "output_type": "stream",
     "text": [
      "2020-07-13\n"
     ]
    }
   ],
   "source": [
    "# 문자열 합치기\n",
    "A = ['2020', '07', '13']\n",
    "# 구분자문자열.join(문자열을 item으로 하는 iterable)\n",
    "# '-'를 구분자로 하여, A를 join 해 보세요\n",
    "\n",
    "print('-'.join(A))"
   ]
  },
  {
   "cell_type": "code",
   "execution_count": 85,
   "metadata": {
    "id": "lDnuTNg9sjYp"
   },
   "outputs": [
    {
     "name": "stdout",
     "output_type": "stream",
     "text": [
      "A:B:C:D\n"
     ]
    }
   ],
   "source": [
    "# ['A', 'B', 'C', 'D'] 를 'A:B:C:D'로 작성해 보세요\n",
    "a = ['A', 'B', 'C', 'D']\n",
    "b = ':'.join(a)\n",
    "print(b)"
   ]
  },
  {
   "cell_type": "code",
   "execution_count": 92,
   "metadata": {
    "colab": {
     "base_uri": "https://localhost:8080/"
    },
    "id": "jYzLL-j1SI32",
    "outputId": "2dc12f8d-54a2-4e7e-f8d8-11efb3eab849"
   },
   "outputs": [
    {
     "name": "stdout",
     "output_type": "stream",
     "text": [
      "['010', '1234-5678']\n",
      "['010-1234', '5678']\n"
     ]
    }
   ],
   "source": [
    "# 전화번호를 ['010', '1234', '5678']와 같이 분리하여 보세요.\n",
    "phone = '010-1234-5678'\n",
    "temp = phone.split('-', maxsplit=1)   # 왼쪽에서 오른쪽으로 가면서 분리\n",
    "print(temp)\n",
    "temp = phone.rsplit('-', maxsplit=1)  # 오른쪽에서 왼쪽으로 가면서 분리\n",
    "print(temp)"
   ]
  },
  {
   "cell_type": "code",
   "execution_count": 87,
   "metadata": {
    "colab": {
     "base_uri": "https://localhost:8080/",
     "height": 35
    },
    "id": "ZcHEF4wISVmS",
    "outputId": "b45f71b9-95a0-437e-d2ff-d3e41beecf36"
   },
   "outputs": [
    {
     "name": "stdout",
     "output_type": "stream",
     "text": [
      "010-1234-5678\n"
     ]
    }
   ],
   "source": [
    "# ['010', '1234', '5678']를 '010-1234-5678'로 합쳐보세요.\n",
    "phone = ['010', '1234', '5678']\n",
    "temp = '-'.join(phone)\n",
    "print(temp)"
   ]
  },
  {
   "cell_type": "code",
   "execution_count": 88,
   "metadata": {},
   "outputs": [
    {
     "data": {
      "text/plain": [
       "'123    456'"
      ]
     },
     "metadata": {},
     "output_type": "display_data"
    }
   ],
   "source": [
    "a = '   123    456     '\n",
    "b = a.strip()\n",
    "display(b)"
   ]
  },
  {
   "cell_type": "markdown",
   "metadata": {
    "id": "vAILjue1eLbq"
   },
   "source": [
    "## 4.기본 입출력"
   ]
  },
  {
   "cell_type": "markdown",
   "metadata": {
    "id": "DYO-fQp3eRaE"
   },
   "source": [
    "### 4-01 print 함수\n",
    "\n",
    "        print(value, sep=' ', end='\\n', …)\n",
    "\n",
    "- value를 표준 출력 장치(screen)에 출력 - value 가변 길이\n",
    "- sep : 출력되는 value 들 사이 분리 기호 - 기본 값 : 공백(‘ ‘)\n",
    "- end : 출력 문자열 마지막 문자 - 기본 값 : 줄 바꿈 문자"
   ]
  },
  {
   "cell_type": "code",
   "execution_count": 93,
   "metadata": {
    "id": "KyajVzouB6Da"
   },
   "outputs": [
    {
     "name": "stdout",
     "output_type": "stream",
     "text": [
      "이름 홍길동 나이 27\n"
     ]
    }
   ],
   "source": [
    "print('이름', '홍길동', '나이', 27)"
   ]
  },
  {
   "cell_type": "code",
   "execution_count": 95,
   "metadata": {
    "id": "8CEZbDyeB9uD"
   },
   "outputs": [
    {
     "name": "stdout",
     "output_type": "stream",
     "text": [
      "이름, 홍길동\n"
     ]
    }
   ],
   "source": [
    "print('이름', '홍길동', sep=', ')"
   ]
  },
  {
   "cell_type": "code",
   "execution_count": 97,
   "metadata": {
    "id": "v161yT6GCBm0"
   },
   "outputs": [
    {
     "name": "stdout",
     "output_type": "stream",
     "text": [
      "이름 홍길동 나이 27\n"
     ]
    }
   ],
   "source": [
    "print('이름', '홍길동', end=' ')\n",
    "print('나이', 27)"
   ]
  },
  {
   "cell_type": "markdown",
   "metadata": {
    "id": "2E3bSSjceqe-"
   },
   "source": [
    "### 4-02 input 함수\n",
    "\n",
    "        input(prompt='문자열')\n",
    "\n",
    "- 문자열 키보드 입력, 숫자를 입력해도 문자열로 인식됨\n",
    "- prompt : 입력을 안내할 문자열, 생략가능\n",
    "- 반환되는 type은 str 임"
   ]
  },
  {
   "cell_type": "code",
   "execution_count": 99,
   "metadata": {
    "id": "tv_pVwfjfXgb"
   },
   "outputs": [
    {
     "name": "stdout",
     "output_type": "stream",
     "text": [
      "윤소영\n"
     ]
    },
    {
     "data": {
      "text/plain": [
       "'윤소영'"
      ]
     },
     "execution_count": 99,
     "metadata": {},
     "output_type": "execute_result"
    }
   ],
   "source": [
    "# 이름을 입력받는 예\n",
    "name = input('이름을 입력하세요: ')\n",
    "name"
   ]
  },
  {
   "cell_type": "code",
   "execution_count": 100,
   "metadata": {
    "colab": {
     "base_uri": "https://localhost:8080/",
     "height": 52
    },
    "id": "B9zhNBF5SRGQ",
    "outputId": "b19f2544-aae4-4e23-da27-c41fd3d1765c"
   },
   "outputs": [
    {
     "name": "stdout",
     "output_type": "stream",
     "text": [
      "123\n",
      "123 <class 'str'>\n"
     ]
    }
   ],
   "source": [
    "# 콘솔 입력, 입력 받은 내용은 문자열(str)로 반환 됩니다.\n",
    "msg = input()\n",
    "print(msg, type(msg))"
   ]
  },
  {
   "cell_type": "code",
   "execution_count": 101,
   "metadata": {
    "colab": {
     "base_uri": "https://localhost:8080/"
    },
    "id": "D-JgNtrE2GWA",
    "outputId": "d006c997-13cc-49f2-84f4-4d0e715f0e7e"
   },
   "outputs": [
    {
     "name": "stdout",
     "output_type": "stream",
     "text": [
      "123\n",
      "123 <class 'int'>\n"
     ]
    }
   ],
   "source": [
    "# 숫자를 하나 입력 받아 정수로 변환하여 num 이라는 이름을 부여합니다.\n",
    "num = int(input())\n",
    "print(num, type(num))"
   ]
  },
  {
   "cell_type": "code",
   "execution_count": 105,
   "metadata": {},
   "outputs": [
    {
     "name": "stdout",
     "output_type": "stream",
     "text": [
      "10 20\n"
     ]
    },
    {
     "data": {
      "text/plain": [
       "10"
      ]
     },
     "metadata": {},
     "output_type": "display_data"
    },
    {
     "data": {
      "text/plain": [
       "20"
      ]
     },
     "metadata": {},
     "output_type": "display_data"
    }
   ],
   "source": [
    "x = input().split()\n",
    "a, b = int(x[0]), int(x[1])\n",
    "display(a, b)"
   ]
  },
  {
   "cell_type": "code",
   "execution_count": 108,
   "metadata": {},
   "outputs": [
    {
     "name": "stdout",
     "output_type": "stream",
     "text": [
      "10 20\n"
     ]
    },
    {
     "data": {
      "text/plain": [
       "10"
      ]
     },
     "metadata": {},
     "output_type": "display_data"
    },
    {
     "data": {
      "text/plain": [
       "20"
      ]
     },
     "metadata": {},
     "output_type": "display_data"
    }
   ],
   "source": [
    "a, b = map(int, input().split())   #  int(x[0]), int(x[1])\n",
    "#a, b = map(int, ['10', '20'])  # int('10'), int('20')\n",
    "display(a, b)"
   ]
  },
  {
   "cell_type": "markdown",
   "metadata": {
    "id": "kPKCT09jfp8Z"
   },
   "source": [
    "## 5.자료구조\n",
    "Sequence Type\n",
    "- 문자열(str)\n",
    "- 리스트(list) : 여러 가지 형태의 변수를 하나의 순서가 있는 배열로 묶어 놓은 형태\n",
    "- 튜플(tuple) : 리스트와 유사하지만 요소의 수정이 불가능한 리스트\n",
    "\n",
    "Set Type\n",
    "- 집합(set) : 순서가 없고 중복을 허용하지 않음\n",
    "\n",
    "Mapping\n",
    "- 사전(dict) : Key와 Value 형태로 데이터를 저장함"
   ]
  },
  {
   "cell_type": "markdown",
   "metadata": {
    "id": "3P9gT1VufsWY"
   },
   "source": [
    "### 5-01 Sequence Type의 공통 특징\n",
    "- '+', '*' 연산의 사용\n",
    "- indexing, slicing의 사용"
   ]
  },
  {
   "cell_type": "code",
   "execution_count": 109,
   "metadata": {
    "colab": {
     "base_uri": "https://localhost:8080/"
    },
    "id": "qd3FSokS8tyo",
    "outputId": "84feb33d-57aa-49af-ac0e-a42fbcea5b7f"
   },
   "outputs": [
    {
     "data": {
      "text/plain": [
       "[1, 2, 3, 4, 5, 6]"
      ]
     },
     "execution_count": 109,
     "metadata": {},
     "output_type": "execute_result"
    }
   ],
   "source": [
    "a = [1, 2, 3]\n",
    "b = [4, 5, 6]\n",
    "a + b"
   ]
  },
  {
   "cell_type": "code",
   "execution_count": 110,
   "metadata": {
    "colab": {
     "base_uri": "https://localhost:8080/"
    },
    "id": "Gu93CLeS83yr",
    "outputId": "19b85ebb-86e6-465c-9f3a-a5f3adcad7a1"
   },
   "outputs": [
    {
     "data": {
      "text/plain": [
       "[1, 2, 3, 1, 2, 3]"
      ]
     },
     "execution_count": 110,
     "metadata": {},
     "output_type": "execute_result"
    }
   ],
   "source": [
    "a = [1, 2, 3]\n",
    "b = 2\n",
    "a * b"
   ]
  },
  {
   "cell_type": "markdown",
   "metadata": {
    "id": "w9xXwOrNSRGU"
   },
   "source": [
    "### 5-02 리스트(list)\n",
    "- 리스트는 여러 가지 형태의 값을 하나의 순서가 있는 배열 형태로 묶어 놓은 것\n",
    "   - 리스트는 모든 type의 객체를 item으로 할 수 있음\n",
    "- 파이썬에서 가장 많이 사용되며, 유연한 구조의 데이터 타입\n",
    "- 리스트 내의 항목들은 쉼표로 구분하고 사각 괄호[ ] 안에 포함됨\n",
    "- Slicing을 이용하여 리스트의 일정 범위 항목을 쪼개어 가져오거나 한 항목을 가져올 수 있음\n",
    "- 리스트의 각 항목은 변경이 가능\n",
    "   - x[0] = 10"
   ]
  },
  {
   "cell_type": "markdown",
   "metadata": {
    "id": "d5JdlsZmv5nd"
   },
   "source": [
    "#### 5-02-01 리스트(list) 생성 "
   ]
  },
  {
   "cell_type": "code",
   "execution_count": null,
   "metadata": {
    "id": "hgHvmJB0hX7T"
   },
   "outputs": [],
   "source": [
    "# 대괄호와 콤마의 사용\n",
    "mylist = [1, 3, 5, 7]\n",
    "mylist"
   ]
  },
  {
   "cell_type": "code",
   "execution_count": null,
   "metadata": {
    "colab": {
     "base_uri": "https://localhost:8080/"
    },
    "id": "-cNzkQRth1mM",
    "outputId": "50037b17-cbe7-4e38-9b21-a12bcce0a5c1"
   },
   "outputs": [],
   "source": [
    "# 요소가 1개인 리스트 생성\n",
    "mylist = \n",
    "mylist"
   ]
  },
  {
   "cell_type": "code",
   "execution_count": null,
   "metadata": {
    "colab": {
     "base_uri": "https://localhost:8080/"
    },
    "id": "Pn_oB8aNhd2Z",
    "outputId": "a4406e22-93e5-4f4b-a945-766f5bb94e21"
   },
   "outputs": [],
   "source": [
    "# list 함수를 사용\n",
    "mylist = \n",
    "mylist"
   ]
  },
  {
   "cell_type": "code",
   "execution_count": null,
   "metadata": {
    "colab": {
     "base_uri": "https://localhost:8080/"
    },
    "id": "e_6Q2e79hp29",
    "outputId": "7d12a1e3-9771-4077-9c2d-7b0b1c6fab86"
   },
   "outputs": [],
   "source": [
    "# list 함수를 사용\n",
    "mylist = \n",
    "mylist"
   ]
  },
  {
   "cell_type": "code",
   "execution_count": null,
   "metadata": {
    "id": "ZrYX9kwlhtM_"
   },
   "outputs": [],
   "source": [
    "# 빈(empty) 리스트 생성\n",
    "mylist = []\n",
    "mylist = list()"
   ]
  },
  {
   "cell_type": "code",
   "execution_count": null,
   "metadata": {
    "id": "R1sWi45FiDbA"
   },
   "outputs": [],
   "source": [
    "# list의 크기\n",
    "x = [10, 20, 'Latte', ['Cafe', 24]]\n",
    "\n",
    "# x의 요소의 개수(=크기)는?\n"
   ]
  },
  {
   "cell_type": "markdown",
   "metadata": {
    "id": "zix7uEtHSRHQ"
   },
   "source": [
    "#### 5-02-02 리스트 슬라이싱"
   ]
  },
  {
   "cell_type": "code",
   "execution_count": 1,
   "metadata": {
    "colab": {
     "base_uri": "https://localhost:8080/"
    },
    "id": "vJDRgvK8SRHR",
    "outputId": "bbdf3cee-7e50-4046-8d93-01c1cb6fa0c4"
   },
   "outputs": [
    {
     "data": {
      "text/plain": [
       "[3, 8]"
      ]
     },
     "execution_count": 1,
     "metadata": {},
     "output_type": "execute_result"
    }
   ],
   "source": [
    "mylist = [7, 3, 8, 9, 1, 4]\n",
    "mylist[1:3]"
   ]
  },
  {
   "cell_type": "code",
   "execution_count": 2,
   "metadata": {
    "colab": {
     "base_uri": "https://localhost:8080/"
    },
    "id": "ehffC6o7SRHT",
    "outputId": "3e7ffd5c-f581-4ee4-b71d-c1e42546e39b"
   },
   "outputs": [
    {
     "data": {
      "text/plain": [
       "[7, 3, 8]"
      ]
     },
     "execution_count": 2,
     "metadata": {},
     "output_type": "execute_result"
    }
   ],
   "source": [
    "# 결과와 동일하도록 slice를 채워 보세요\n",
    "mylist[]   # 1"
   ]
  },
  {
   "cell_type": "code",
   "execution_count": 3,
   "metadata": {
    "colab": {
     "base_uri": "https://localhost:8080/"
    },
    "id": "i4kax9sZSRHX",
    "outputId": "a54b21ba-ee6e-41fa-b38e-d6eaa2595cff"
   },
   "outputs": [
    {
     "data": {
      "text/plain": [
       "[1, 4]"
      ]
     },
     "execution_count": 3,
     "metadata": {},
     "output_type": "execute_result"
    }
   ],
   "source": [
    "mylist[]   # 2"
   ]
  },
  {
   "cell_type": "code",
   "execution_count": 4,
   "metadata": {
    "colab": {
     "base_uri": "https://localhost:8080/"
    },
    "id": "l3QjUq6vSRHa",
    "outputId": "1892699f-e52f-4a45-af1b-9c2d45c2654d"
   },
   "outputs": [
    {
     "data": {
      "text/plain": [
       "[1, 4]"
      ]
     },
     "execution_count": 4,
     "metadata": {},
     "output_type": "execute_result"
    }
   ],
   "source": [
    "# 결과와 동일하도록 slice를 채워 보세요, start에 음수 index를 사용할 것\n",
    "mylist[]   # 3"
   ]
  },
  {
   "cell_type": "code",
   "execution_count": 5,
   "metadata": {
    "colab": {
     "base_uri": "https://localhost:8080/"
    },
    "id": "eUrFdh0ujnax",
    "outputId": "cce38fda-6240-4eb8-d306-ec6c09e039a4"
   },
   "outputs": [
    {
     "data": {
      "text/plain": [
       "[1, 9, 8, 3, 7]"
      ]
     },
     "execution_count": 5,
     "metadata": {},
     "output_type": "execute_result"
    }
   ],
   "source": [
    "mylist = [7, 3, 8, 9, 1, 4]\n",
    "mylist[]   # 4"
   ]
  },
  {
   "cell_type": "code",
   "execution_count": 6,
   "metadata": {
    "colab": {
     "base_uri": "https://localhost:8080/"
    },
    "id": "9o5kB0XOgNpe",
    "outputId": "b911ef3e-b7c1-46c2-bd05-301798f7755e"
   },
   "outputs": [
    {
     "data": {
      "text/plain": [
       "[4, 1, 9, 8, 3, 7]"
      ]
     },
     "execution_count": 6,
     "metadata": {},
     "output_type": "execute_result"
    }
   ],
   "source": [
    "mylist[]   # 5 뒤집기"
   ]
  },
  {
   "cell_type": "code",
   "execution_count": 7,
   "metadata": {
    "colab": {
     "base_uri": "https://localhost:8080/"
    },
    "id": "vJfheHM6gSut",
    "outputId": "bdea2c57-cf43-4a43-929c-7334806b0257"
   },
   "outputs": [
    {
     "data": {
      "text/plain": [
       "[7, 3, 8, 9, 1]"
      ]
     },
     "execution_count": 7,
     "metadata": {},
     "output_type": "execute_result"
    }
   ],
   "source": [
    "# len에 상관없이 마지막 한 개 제거하고 출력하고 싶다면?\n",
    "mylist[]    # 6 마지막에 한 개 제거하기"
   ]
  },
  {
   "cell_type": "markdown",
   "metadata": {
    "id": "hfroY0F9SRHF"
   },
   "source": [
    "#### 5-02-03 2차원 리스트 인덱싱"
   ]
  },
  {
   "cell_type": "code",
   "execution_count": 10,
   "metadata": {
    "id": "9Qf8EjPZSRHG",
    "outputId": "b080dfce-a165-425a-9d38-0e5ed6e103ab"
   },
   "outputs": [
    {
     "data": {
      "text/plain": [
       "[[1, 3, 5], [3, 5, 7], [5, 7, 9]]"
      ]
     },
     "execution_count": 10,
     "metadata": {},
     "output_type": "execute_result"
    }
   ],
   "source": [
    "mylist = [[1,3,5],\n",
    "          [3,5,7],\n",
    "          [5,7,9]]\n",
    "mylist"
   ]
  },
  {
   "cell_type": "code",
   "execution_count": 11,
   "metadata": {
    "id": "O_GAB-4ySRHJ",
    "outputId": "ca40924b-ec5f-44b9-d5ba-2214bd7bef2e"
   },
   "outputs": [
    {
     "data": {
      "text/plain": [
       "[1, 3, 5]"
      ]
     },
     "execution_count": 11,
     "metadata": {},
     "output_type": "execute_result"
    }
   ],
   "source": [
    "# 출력에 알맞은 index 번호를 넣어 보세요.\n",
    "mylist[]"
   ]
  },
  {
   "cell_type": "code",
   "execution_count": 12,
   "metadata": {
    "id": "-Yn23PNJSRHN",
    "outputId": "eaf023f4-9a27-4c72-9b2c-c48f11d8313b",
    "scrolled": true
   },
   "outputs": [
    {
     "data": {
      "text/plain": [
       "5"
      ]
     },
     "execution_count": 12,
     "metadata": {},
     "output_type": "execute_result"
    }
   ],
   "source": [
    "# 다음과 같은 결과가 출력되도록 index 번호를 넣어 보세요.\n",
    "mylist[][]"
   ]
  },
  {
   "cell_type": "markdown",
   "metadata": {
    "id": "f4-A-CFZj-Eu"
   },
   "source": [
    "#### 5-02-04 리스트 수정"
   ]
  },
  {
   "cell_type": "code",
   "execution_count": null,
   "metadata": {
    "colab": {
     "base_uri": "https://localhost:8080/"
    },
    "id": "ISSIJ-kcSRHg",
    "outputId": "56551a7b-d81d-47bb-dd1e-eaa31065d656"
   },
   "outputs": [],
   "source": [
    "a = [1, 2, 3]\n",
    "a"
   ]
  },
  {
   "cell_type": "code",
   "execution_count": null,
   "metadata": {
    "colab": {
     "base_uri": "https://localhost:8080/"
    },
    "id": "haAR50UCSRHj",
    "outputId": "1940e3dc-48cf-4d82-fe8c-e9c623f0586f"
   },
   "outputs": [],
   "source": [
    "# a[2]의 값을 4로 수정\n",
    "\n",
    "a"
   ]
  },
  {
   "cell_type": "code",
   "execution_count": null,
   "metadata": {
    "colab": {
     "base_uri": "https://localhost:8080/"
    },
    "id": "AoSt4Ms9SRHt",
    "outputId": "b75e2dd0-fb99-427b-d0b7-ebd0959811ee"
   },
   "outputs": [],
   "source": [
    "# a[1]의 값을 'c', 'd', 'e'로 수정  (1개가 3개가 되어야 함) => slicing 사용\n",
    "\n",
    "a"
   ]
  },
  {
   "cell_type": "code",
   "execution_count": null,
   "metadata": {
    "colab": {
     "base_uri": "https://localhost:8080/"
    },
    "id": "OOnDZhOeSRHo",
    "outputId": "12e4b912-e19f-4fa8-f068-90c81a000d30"
   },
   "outputs": [],
   "source": [
    "# a[1]의 값을 ['c','d','e']로 수정 ('c' 대신 ['c','d','e']가 되어야 함) => indexing 사용\n",
    "\n",
    "a"
   ]
  },
  {
   "cell_type": "markdown",
   "metadata": {
    "id": "QcE4etB43fPP"
   },
   "source": [
    "#### 5-02-05 리스트의 메서드(method)"
   ]
  },
  {
   "cell_type": "code",
   "execution_count": null,
   "metadata": {
    "colab": {
     "base_uri": "https://localhost:8080/"
    },
    "id": "KkdQG3Mp4bMY",
    "outputId": "784e10ba-ab54-4659-836b-d238424ada5f"
   },
   "outputs": [],
   "source": [
    "# list.append(object)\n",
    "# list의 맨 뒤에 item을 추가합니다.\n",
    "\n",
    "# 4를 a의 맨 뒤에 추가합니다.\n",
    "a = [1, 2, 3]\n",
    "\n",
    "a"
   ]
  },
  {
   "cell_type": "code",
   "execution_count": null,
   "metadata": {
    "colab": {
     "base_uri": "https://localhost:8080/"
    },
    "id": "XUkHbwAwSRGy",
    "outputId": "cebba929-8c2f-4e2b-ea6b-a97e10551ba1"
   },
   "outputs": [],
   "source": [
    "# list.insert(index, object) \n",
    "# list의 index 위치에 object를 삽입하고, 기존 item들은 뒤로 밀립니다.\n",
    "# index 위치에 다른 object가 없었다면, 맨 뒤에 삽입됩니다.\n",
    "# 0번 index 위치에 4를 삽입합니다.\n",
    "a = [1, 2, 3]\n",
    "\n",
    "a"
   ]
  },
  {
   "cell_type": "code",
   "execution_count": null,
   "metadata": {
    "colab": {
     "base_uri": "https://localhost:8080/"
    },
    "id": "PacPn2p0SRHC",
    "outputId": "a901738b-98eb-4c37-c200-7e3d39a7e31f",
    "scrolled": true
   },
   "outputs": [],
   "source": [
    "# list.extend(iterable)\n",
    "# list를 확장합니다. \n",
    "a = [1, 2, 3]\n",
    "b = [4, 5]\n",
    "# a 리스트의 뒤에 b를 넣어 확장합니다.\n",
    "\n",
    "a"
   ]
  },
  {
   "cell_type": "code",
   "execution_count": null,
   "metadata": {
    "colab": {
     "base_uri": "https://localhost:8080/"
    },
    "id": "nhc7q4W6-zLF",
    "outputId": "f4bfbe42-ffd9-4161-f0e3-68cd34a849a5"
   },
   "outputs": [],
   "source": [
    "# list.sort(), list.sort(reverse=True)\n",
    "# 정렬\n",
    "a = [1, 4, 2, 3]\n",
    "\n",
    "a"
   ]
  },
  {
   "cell_type": "code",
   "execution_count": null,
   "metadata": {
    "colab": {
     "base_uri": "https://localhost:8080/"
    },
    "id": "yMdiDtoR_Bjj",
    "outputId": "e9ca063a-e7df-4cc3-d0e0-aa0b8be7433d"
   },
   "outputs": [],
   "source": [
    "# list.reverse()\n",
    "# 리스트 요소를 반대 순서로 뒤집기\n",
    "a = [1, 2, 3, 4]\n",
    "\n",
    "a"
   ]
  },
  {
   "cell_type": "code",
   "execution_count": null,
   "metadata": {
    "colab": {
     "base_uri": "https://localhost:8080/"
    },
    "id": "2ylOx81ZSRG-",
    "outputId": "bc3579e0-b657-49d5-850e-efbf14939f6f"
   },
   "outputs": [],
   "source": [
    "# list.pop([index]) \n",
    "# 삭제할 데이터의 index 번호 지정, index 번호 지정하지 않으면 -1 위치 \n",
    "# 삭제 데이터를 반환도 합니다!\n",
    "# 1번 index의 item을 삭제하고 반환 받아 x라는 이름을 부여합니다.\n",
    "a = [1, 2, 3]\n",
    "x = \n",
    "a, x"
   ]
  },
  {
   "cell_type": "code",
   "execution_count": null,
   "metadata": {
    "colab": {
     "base_uri": "https://localhost:8080/"
    },
    "id": "gCtbi0PLSRG6",
    "outputId": "11aa522d-99d9-4ebc-9530-d944e011951f",
    "scrolled": true
   },
   "outputs": [],
   "source": [
    "# list.remove(value)\n",
    "# 삭제할 데이터 지정, 삭제 value와 같은 값이 여러 개인 경우 앞에서부터 1개만 삭제됨\n",
    "# 2를 삭제합니다.\n",
    "a = [1, 2, 3, 2, 1]\n",
    "\n",
    "a"
   ]
  },
  {
   "cell_type": "code",
   "execution_count": null,
   "metadata": {
    "colab": {
     "base_uri": "https://localhost:8080/"
    },
    "id": "E3-r9SWxpiDa",
    "outputId": "f143233f-1cbf-4fe2-fca5-636bc4cb3af9"
   },
   "outputs": [],
   "source": [
    "# del 연산자 사용\n",
    "a = [1, 2, 3]\n",
    "del a[1]\n",
    "a"
   ]
  },
  {
   "cell_type": "code",
   "execution_count": null,
   "metadata": {
    "colab": {
     "base_uri": "https://localhost:8080/"
    },
    "id": "ApOIBA7tp0Bd",
    "outputId": "844dc419-f379-43fc-8fb1-909eae0052ee"
   },
   "outputs": [],
   "source": [
    "# s.count(x) : 값(x) 일치하는 요소의 개수 반환\n",
    "a = [1, 2, 3, 1, 2, 3, 1]\n",
    "\n",
    "# a에서 1의 개수를 출력합니다.\n"
   ]
  },
  {
   "cell_type": "markdown",
   "metadata": {
    "id": "n13fi4W3S8cl"
   },
   "source": [
    "#### 5-02-06 리스트 연습문제 "
   ]
  },
  {
   "cell_type": "code",
   "execution_count": null,
   "metadata": {
    "id": "sGmCI4nmSRH5",
    "outputId": "3a094808-f78e-49aa-da54-80b4fc1b6b0b"
   },
   "outputs": [],
   "source": [
    "# 'english' 뒤에 85를 삽입합니다.\n",
    "score = [['math', 89], ['english']]\n",
    "#code here\n",
    "\n",
    "print(score)"
   ]
  },
  {
   "cell_type": "code",
   "execution_count": null,
   "metadata": {
    "colab": {
     "base_uri": "https://localhost:8080/",
     "height": 35
    },
    "id": "brg_b_KESRIN",
    "outputId": "7d29ef5b-9b0d-41e1-d005-adf77b93168f"
   },
   "outputs": [],
   "source": [
    "# [1,3,5,4,2] 이라는 리스트를 슬라이싱을 이용하여 [2,4,5,3,1]로 출력하세요\n",
    "mylist = [1,3,5,4,2]\n",
    "#code here\n",
    "\n"
   ]
  },
  {
   "cell_type": "code",
   "execution_count": null,
   "metadata": {
    "id": "uNsTK8iqSRIQ",
    "outputId": "281851c1-b106-4cb1-91bc-237b57887644",
    "scrolled": true
   },
   "outputs": [],
   "source": [
    "# [‘Python’, ‘is’, ‘too’, ‘interesting’] 라는 리스트를 'Python is too interesting' 이라는 문자열로 출력하세요\n",
    "# list문제를 가장한...   str 메서드 문제입니다.\n",
    "mylist = ['Python','is','too','interesting']\n",
    "#code here\n"
   ]
  },
  {
   "cell_type": "markdown",
   "metadata": {
    "id": "HzaAI9tKSRIa"
   },
   "source": [
    "### 5-03 튜플(tuple)\n",
    "- 데이터 변경이 불가능한 Common Sequence Type\n",
    "- 튜플은 소괄호( )와 콤마(,)를 사용하여 작성\n",
    "- 튜플은 값의 추가, 수정, 제거가 불가능함, 조회만 가능\n",
    "- 튜플의 인덱싱과 슬라이싱은 리스트와 동일\n",
    "- 값의 수정이 불필요한 경우 리스트보다 튜플을 사용하는 것이 효율적임\n",
    "   - 메모리 사용이 적음"
   ]
  },
  {
   "cell_type": "markdown",
   "metadata": {
    "id": "FivgWAzw_BEX"
   },
   "source": [
    "#### 5-03-01 튜플(tuple) 생성"
   ]
  },
  {
   "cell_type": "code",
   "execution_count": null,
   "metadata": {
    "colab": {
     "base_uri": "https://localhost:8080/"
    },
    "id": "nUBzL-oJsMch",
    "outputId": "14410b35-1061-4138-d36c-86d0f39f184e"
   },
   "outputs": [],
   "source": [
    "# 소괄호 내부에 요소(item, element)를 콤마(,)로 구분하여 나열함\n",
    "t = (1, 2, 3)\n",
    "t"
   ]
  },
  {
   "cell_type": "code",
   "execution_count": null,
   "metadata": {
    "id": "hI38FGRfSRIe",
    "outputId": "4b6a7375-c060-4473-b4ba-c6cfe91b9363"
   },
   "outputs": [],
   "source": [
    "# tuple 함수 사용  (list가 tuple로 변경됨)\n",
    "t = tuple([1,3,5])\n",
    "t"
   ]
  },
  {
   "cell_type": "code",
   "execution_count": null,
   "metadata": {
    "colab": {
     "base_uri": "https://localhost:8080/"
    },
    "id": "srt6jVdWsfUf",
    "outputId": "86eaeb38-c0ac-405f-a1b4-ae5bfad43e38"
   },
   "outputs": [],
   "source": [
    "t = 1, 2, 3   # 소괄호를 이용하지 않고 생성\n",
    "t"
   ]
  },
  {
   "cell_type": "code",
   "execution_count": null,
   "metadata": {
    "id": "-iaoIR24skMz"
   },
   "outputs": [],
   "source": [
    "# 요소가 1개만 있는 tuple 생성  (콤마가 반드시 필요함)\n",
    "t1 = (1, )   \n",
    "t2 = 1, "
   ]
  },
  {
   "cell_type": "code",
   "execution_count": null,
   "metadata": {
    "id": "SZurWomJsstj"
   },
   "outputs": [],
   "source": [
    "t = (1)\n",
    "print(t, type(t))"
   ]
  },
  {
   "cell_type": "markdown",
   "metadata": {
    "id": "tBWmhg5gSRI-"
   },
   "source": [
    "### 5-04 시퀀스 타입들간의 변환"
   ]
  },
  {
   "cell_type": "code",
   "execution_count": null,
   "metadata": {
    "id": "hff0i-rsSRI-",
    "outputId": "36f0602a-bb5f-44e9-daac-78035b350d9f"
   },
   "outputs": [],
   "source": [
    "myStr = 'Python'\n",
    "# 문자열을 list로 변환\n"
   ]
  },
  {
   "cell_type": "code",
   "execution_count": null,
   "metadata": {
    "id": "30WQENIBSRJB",
    "outputId": "3bba6486-7c89-4b01-8ccf-9c907f3f4874"
   },
   "outputs": [],
   "source": [
    "# 문자열을 tuple로 변환\n"
   ]
  },
  {
   "cell_type": "code",
   "execution_count": null,
   "metadata": {
    "colab": {
     "base_uri": "https://localhost:8080/",
     "height": 35
    },
    "id": "K2YjL9teSRJF",
    "outputId": "e7af4127-e820-43b7-d2f1-cad91128bb98",
    "scrolled": true
   },
   "outputs": [],
   "source": [
    "# 문자열을 연결하여 하나의 문자열 생성\n",
    "myList = ['hello', 'dong', 'jin']\n",
    "# myList의 item은 str type 이어야 함 \n",
    "# myList를 'hello dong jin'과 같은 문자열로 변환해 보세요. (str.join() 사용)\n"
   ]
  },
  {
   "cell_type": "code",
   "execution_count": null,
   "metadata": {
    "colab": {
     "base_uri": "https://localhost:8080/",
     "height": 35
    },
    "id": "lzyy3tU2t_Th",
    "outputId": "ea7796f3-9bea-4cc8-b488-42dfb8dc027e"
   },
   "outputs": [],
   "source": [
    "myTuple = ('2021', '1', '29')\n",
    "\n",
    "# myTuple을 '2021-1-29'와 같은 문자열로 변환해 보세요.  (str.join() 사용)\n"
   ]
  },
  {
   "cell_type": "markdown",
   "metadata": {
    "id": "Wn_uUkd9SRJx"
   },
   "source": [
    "### 5-05 집합(set)\n",
    "- 집합은 중괄호 {} 안에 콤마(,)로 값들을 구분\n",
    "- 중복을 허용하지 않으며 순서가 없음\n"
   ]
  },
  {
   "cell_type": "markdown",
   "metadata": {
    "id": "Konw5Ns0BAdr"
   },
   "source": [
    "#### 5-05-01 집합 생성"
   ]
  },
  {
   "cell_type": "code",
   "execution_count": null,
   "metadata": {
    "id": "UR310P1jSRJy"
   },
   "outputs": [],
   "source": [
    "# 중괄호 및 콤마 사용\n",
    "a = {'a', 'b', 'c', 'd', 'e'}"
   ]
  },
  {
   "cell_type": "code",
   "execution_count": null,
   "metadata": {
    "id": "tMOPBBAYSRJ0"
   },
   "outputs": [],
   "source": [
    "a, type(a)"
   ]
  },
  {
   "cell_type": "code",
   "execution_count": null,
   "metadata": {
    "id": "WZ0YyAAWSRJ4"
   },
   "outputs": [],
   "source": [
    "# set 함수 사용\n",
    "b = set('abcfff')"
   ]
  },
  {
   "cell_type": "code",
   "execution_count": null,
   "metadata": {
    "id": "mCoD7V4CGSTz"
   },
   "outputs": [],
   "source": [
    "# 주의!!   { }는 dict 입니다! \n",
    "c = {}\n",
    "type(c)"
   ]
  },
  {
   "cell_type": "markdown",
   "metadata": {
    "id": "qsXnHjaxGMzm"
   },
   "source": [
    "#### 5-05-02 집합 연산, 메서드"
   ]
  },
  {
   "cell_type": "code",
   "execution_count": null,
   "metadata": {
    "colab": {
     "base_uri": "https://localhost:8080/"
    },
    "id": "pp5WOsBIvgnP",
    "outputId": "dc723866-d57c-4a2c-8d60-287290055b9b"
   },
   "outputs": [],
   "source": [
    "# set.add(value)\n",
    "b = set('abcf')\n",
    "# b에 'g'를 추가\n",
    "\n",
    "b"
   ]
  },
  {
   "cell_type": "code",
   "execution_count": null,
   "metadata": {
    "colab": {
     "base_uri": "https://localhost:8080/"
    },
    "id": "vLmTYCrevuUh",
    "outputId": "8175809a-0311-443c-d080-288daaeee6dc"
   },
   "outputs": [],
   "source": [
    "# set.update(iterable)\n",
    "# b에 '1', '2', '3' 을 추가\n",
    "\n",
    "b"
   ]
  },
  {
   "cell_type": "code",
   "execution_count": null,
   "metadata": {
    "colab": {
     "base_uri": "https://localhost:8080/"
    },
    "id": "Vpo_Oawhv_5Z",
    "outputId": "047eaa7f-fc56-44b5-f8ee-0485d4cad6b4"
   },
   "outputs": [],
   "source": [
    "# set.remove(value)\n",
    "# b에서 '1' 을 제거\n",
    "\n",
    "b"
   ]
  },
  {
   "cell_type": "code",
   "execution_count": null,
   "metadata": {
    "colab": {
     "base_uri": "https://localhost:8080/"
    },
    "id": "kMWBs2SLwK-5",
    "outputId": "393e7074-58c9-4922-f4fc-a8e9cdde0623"
   },
   "outputs": [],
   "source": [
    "# set.pop(), 임의의 값 제거\n",
    "x = b.pop()\n",
    "print(b, x)"
   ]
  },
  {
   "cell_type": "code",
   "execution_count": null,
   "metadata": {
    "colab": {
     "base_uri": "https://localhost:8080/"
    },
    "id": "lziIiQpySRJ6",
    "outputId": "551ff512-b1f3-4db8-8b69-78edf9aaf90c"
   },
   "outputs": [],
   "source": [
    "a = {'a', 'b', 'c'}\n",
    "b = set('cde')\n",
    "a - b # 차집합"
   ]
  },
  {
   "cell_type": "code",
   "execution_count": null,
   "metadata": {
    "colab": {
     "base_uri": "https://localhost:8080/"
    },
    "id": "7CqqFAwuwZOM",
    "outputId": "2b7f698f-b8d8-49ce-d0ad-881f400be238"
   },
   "outputs": [],
   "source": [
    "a.difference(b)   # 차집합"
   ]
  },
  {
   "cell_type": "code",
   "execution_count": null,
   "metadata": {
    "colab": {
     "base_uri": "https://localhost:8080/"
    },
    "id": "t9aG34cWSRJ-",
    "outputId": "abb3b2cc-26ee-456c-f6dd-7c1a49a13d0f"
   },
   "outputs": [],
   "source": [
    "a | b # 합집합"
   ]
  },
  {
   "cell_type": "code",
   "execution_count": null,
   "metadata": {
    "colab": {
     "base_uri": "https://localhost:8080/"
    },
    "id": "1MiYevMJwcWN",
    "outputId": "7fb45f36-c1e1-44cd-f3de-c9525e413297"
   },
   "outputs": [],
   "source": [
    "a.union(b)   # 합집합"
   ]
  },
  {
   "cell_type": "code",
   "execution_count": null,
   "metadata": {
    "colab": {
     "base_uri": "https://localhost:8080/"
    },
    "id": "oZGVq-bfSRKA",
    "outputId": "b61c49ac-cfb9-41d2-e4eb-c0303f6710d6"
   },
   "outputs": [],
   "source": [
    "a & b # 교집합"
   ]
  },
  {
   "cell_type": "code",
   "execution_count": null,
   "metadata": {
    "colab": {
     "base_uri": "https://localhost:8080/"
    },
    "id": "p7s0pMhbwe0P",
    "outputId": "7abc77e1-5a8d-4c8a-ae36-4d0f4a7ab9bd"
   },
   "outputs": [],
   "source": [
    "a.intersection(b)   # 교집합"
   ]
  },
  {
   "cell_type": "code",
   "execution_count": null,
   "metadata": {
    "colab": {
     "base_uri": "https://localhost:8080/"
    },
    "id": "bV9d0SknACul",
    "outputId": "70f66e5d-77a7-4b49-ad74-f655ac95ff53"
   },
   "outputs": [],
   "source": [
    "(a | b) - a   # 여집합"
   ]
  },
  {
   "cell_type": "code",
   "execution_count": null,
   "metadata": {
    "colab": {
     "base_uri": "https://localhost:8080/"
    },
    "id": "x8hac_3ASRKF",
    "outputId": "2238c8a0-ba4d-4745-9ffe-830398b000c9"
   },
   "outputs": [],
   "source": [
    "a ^ b # 대칭차집합"
   ]
  },
  {
   "cell_type": "code",
   "execution_count": null,
   "metadata": {
    "colab": {
     "base_uri": "https://localhost:8080/"
    },
    "id": "C6PosyFmwoiu",
    "outputId": "1b10d90c-9d0a-457f-ac6c-77cb0a76acab"
   },
   "outputs": [],
   "source": [
    "a.symmetric_difference(b) # 대칭차집합"
   ]
  },
  {
   "cell_type": "markdown",
   "metadata": {
    "id": "P3ghFkydA4WV"
   },
   "source": [
    "#### 5-05-03 데이터 변환"
   ]
  },
  {
   "cell_type": "code",
   "execution_count": null,
   "metadata": {
    "id": "dvWVJwRLA6-6"
   },
   "outputs": [],
   "source": [
    "s1 = set([1, 2, 3])    # list to set\n",
    "s1"
   ]
  },
  {
   "cell_type": "code",
   "execution_count": null,
   "metadata": {
    "id": "aU2SM3JoBAq2"
   },
   "outputs": [],
   "source": [
    "myList = list(s1)      # set to list\n",
    "myList"
   ]
  },
  {
   "cell_type": "code",
   "execution_count": null,
   "metadata": {
    "id": "VOM2qE6IBFse"
   },
   "outputs": [],
   "source": [
    "myTuple = tuple(s1)    # set to tuple\n",
    "myTuple"
   ]
  },
  {
   "cell_type": "markdown",
   "metadata": {
    "id": "Y3vxSe_CGgpe"
   },
   "source": [
    "#### 5-05-04 집합을 사용한 중복제거"
   ]
  },
  {
   "cell_type": "code",
   "execution_count": null,
   "metadata": {
    "id": "PKQWxkAsSRKL",
    "outputId": "23f2a3dd-5bd9-4005-baf3-48f05cb8dce5"
   },
   "outputs": [],
   "source": [
    "s = set(\"Hello\")  # 중복제거\n",
    "s"
   ]
  },
  {
   "cell_type": "code",
   "execution_count": null,
   "metadata": {
    "colab": {
     "base_uri": "https://localhost:8080/",
     "height": 36
    },
    "id": "7eJfktkjSRKN",
    "outputId": "28258ea8-bc65-47c3-982d-3f43d5a578b2"
   },
   "outputs": [],
   "source": [
    "s1 = set([1,2,3,2,3,4,5,3,2,1,3,4])  # 중복제거\n",
    "myList = list(s1)\n",
    "myList"
   ]
  },
  {
   "cell_type": "markdown",
   "metadata": {
    "id": "HnMWuKyHAmwH"
   },
   "source": [
    "#### 5-05-05 연습문제"
   ]
  },
  {
   "cell_type": "code",
   "execution_count": null,
   "metadata": {
    "colab": {
     "base_uri": "https://localhost:8080/",
     "height": 35
    },
    "id": "_pEBF_crSRKP",
    "outputId": "6b3f3740-debf-4271-d821-df94bfdd138f"
   },
   "outputs": [],
   "source": [
    "# a 리스트에서 중복된 숫자들을 제거하여 list로 출력하세요.\n",
    "a = [1,1,2,2,3,4,4,5,6,7,2]\n",
    "# code here\n",
    "\n",
    "\n",
    "print(a)"
   ]
  },
  {
   "cell_type": "markdown",
   "metadata": {
    "id": "oaHv501ESRJG"
   },
   "source": [
    "### 5-06 사전 (딕셔너리)\n",
    "- 딕셔너리는 Key와 Value의 쌍과 { }로 구성되어 있음\n",
    "  - dishes = {＇eggs＇: 2, ＇sausage＇: 1, ＇bacon＇: 1, ‘ spam＇: 500}\n",
    "- 딕셔너리는 리스트나 튜플처럼 순차적으로 요소값을 구하지 않고 Key를 통해 Value를 얻음\n",
    "- 딕셔너리 항목은 시퀀스 타입과는 다르게 순서가 없음\n",
    "- Key값은 고유한 값으로 설정해야 함\n",
    "- Key값은 변경 불가능한 객체로 설정해야 함\n",
    "- List를 Key값으로 설정 불가\n"
   ]
  },
  {
   "cell_type": "markdown",
   "metadata": {
    "id": "v4x-vET3BLcU"
   },
   "source": [
    "#### 5-06-01 사전(dict) 생성 및 연산"
   ]
  },
  {
   "cell_type": "code",
   "execution_count": null,
   "metadata": {
    "colab": {
     "base_uri": "https://localhost:8080/"
    },
    "id": "I4Drw2oPSRJH",
    "outputId": "e774ce94-e312-440b-b489-eebd81dfbfa8"
   },
   "outputs": [],
   "source": [
    "# {key : value} 를 사용한 사전 생성\n",
    "a = {1:'b', '지역':'서울'}\n",
    "a"
   ]
  },
  {
   "cell_type": "code",
   "execution_count": null,
   "metadata": {
    "colab": {
     "base_uri": "https://localhost:8080/"
    },
    "id": "jCdHJUSByXud",
    "outputId": "c25a7051-2093-439c-e786-ead177d954c3"
   },
   "outputs": [],
   "source": [
    "# dict 함수 이용\n",
    "# key는 문자열만 사용가능하며, 이름규칙을 따른다\n",
    "# dict(key=value, key=value, ...)  => dict(**kwargs) 라고 표기\n",
    "a = dict(m = 'b', 지역='서울')\n",
    "a"
   ]
  },
  {
   "cell_type": "code",
   "execution_count": null,
   "metadata": {
    "colab": {
     "base_uri": "https://localhost:8080/"
    },
    "id": "lQy8yECzyt-r",
    "outputId": "cb77dcf5-92ab-43f0-f1b7-d06858f979be"
   },
   "outputs": [],
   "source": [
    "# key는 변경 불가능한 객체(immutable) 만 사용 가능 \n",
    "# immutable : 숫자, 문자열, tuple\n",
    "b = {(1,2): 'tuple'}\n",
    "print(b, b[(1, 2)])"
   ]
  },
  {
   "cell_type": "code",
   "execution_count": null,
   "metadata": {
    "colab": {
     "base_uri": "https://localhost:8080/",
     "height": 35
    },
    "id": "4O_XO4wWSRJI",
    "outputId": "ebe9437d-38cd-4e12-924d-4b97ee178da4"
   },
   "outputs": [],
   "source": [
    "# dict.get(key), key를 사용하여 value 얻기\n",
    "\n",
    "# a에서 '지역'에 대한 value 얻기\n",
    "a = dict(m = 'b', 지역='서울')\n",
    "\n",
    "# code here\n",
    "\n"
   ]
  },
  {
   "cell_type": "code",
   "execution_count": null,
   "metadata": {
    "id": "selk4kX1zjAE"
   },
   "outputs": [],
   "source": [
    "a['없나']  # KeyError"
   ]
  },
  {
   "cell_type": "code",
   "execution_count": null,
   "metadata": {
    "id": "ejvEu3xpzpPE"
   },
   "outputs": [],
   "source": [
    "# dict.get(key, default=None) : key에 해당하는 item의 value를 반환한다 (삭제는 하지 않음)\n",
    "# key에 해당하는 item이 없으면 default를 반환한다. default 지정하지 않으면 None 반환\n",
    "a = dict(m = 'b', 지역='서울')\n",
    "a.get('지역')"
   ]
  },
  {
   "cell_type": "code",
   "execution_count": null,
   "metadata": {
    "id": "JjJ-0zBGz1jX"
   },
   "outputs": [],
   "source": [
    "x = a.get('없나')  # Error 발생 없음, None 반환\n",
    "print(x)"
   ]
  },
  {
   "cell_type": "code",
   "execution_count": null,
   "metadata": {
    "colab": {
     "base_uri": "https://localhost:8080/"
    },
    "id": "rAI_Z1_fSRJO",
    "outputId": "ef22adb5-f195-44c9-c54a-e71f8f19a459"
   },
   "outputs": [],
   "source": [
    "# dict 객체에 새로운 item 추가 방법/ 갱신 방법\n",
    "# dict[key] = object 를 사용한다\n",
    "\n",
    "# a에서 '지역'을 '인천'으로 수정\n",
    "\n",
    "a"
   ]
  },
  {
   "cell_type": "code",
   "execution_count": null,
   "metadata": {
    "colab": {
     "base_uri": "https://localhost:8080/"
    },
    "id": "K4W9R_4h07I2",
    "outputId": "611b782d-65a0-470b-9b57-059387c6c030"
   },
   "outputs": [],
   "source": [
    "# a에 '이름'을 '홍길동'으로 하는 item 추가\n",
    "\n",
    "a"
   ]
  },
  {
   "cell_type": "code",
   "execution_count": null,
   "metadata": {
    "colab": {
     "base_uri": "https://localhost:8080/"
    },
    "id": "tn3GP6Td1NdC",
    "outputId": "30691f61-3f3e-4eb2-b3ee-390b7545cc99"
   },
   "outputs": [],
   "source": [
    "# dict.update(dict),  dict.update(key=value, key=value, ...)\n",
    "# 여러 아이템을 수정/추가\n",
    "a.update({'이름': '흥부', 'age':1000, '지역':'어디게?'})\n",
    "a"
   ]
  },
  {
   "cell_type": "code",
   "execution_count": null,
   "metadata": {
    "colab": {
     "base_uri": "https://localhost:8080/"
    },
    "id": "ODvtfXd31NaV",
    "outputId": "2fc808df-a576-4d49-803d-aaee3ba2504e"
   },
   "outputs": [],
   "source": [
    "a.update(age=123, m='x')\n",
    "a"
   ]
  },
  {
   "cell_type": "code",
   "execution_count": null,
   "metadata": {
    "colab": {
     "base_uri": "https://localhost:8080/"
    },
    "id": "EysUdCD2SRJQ",
    "outputId": "dd125dc7-1a18-48e9-e129-9de376e0fc88"
   },
   "outputs": [],
   "source": [
    "# del 삭제할 item \n",
    "# a['m'] item을 삭제 한다\n",
    "del a['m']\n",
    "a"
   ]
  },
  {
   "cell_type": "code",
   "execution_count": null,
   "metadata": {
    "colab": {
     "base_uri": "https://localhost:8080/"
    },
    "id": "JCMzaRnZ13t_",
    "outputId": "9acd1300-cbfd-4cc8-86fa-f0e3ff560213"
   },
   "outputs": [],
   "source": [
    "# dict.pop(key)\n",
    "# key의 값을 가지는 value를 반환하고 원본에서 제거\n",
    "x = \n",
    "print(a, x)"
   ]
  },
  {
   "cell_type": "code",
   "execution_count": null,
   "metadata": {
    "colab": {
     "base_uri": "https://localhost:8080/"
    },
    "id": "kS3bb8oO2Ioc",
    "outputId": "9ee73fed-0bb6-4ce8-db40-73c2fc2dd355"
   },
   "outputs": [],
   "source": [
    "# dict.clear()  사전을 초기화 함\n",
    "a.clear()\n",
    "a"
   ]
  },
  {
   "cell_type": "markdown",
   "metadata": {
    "id": "xSti0hbODV0r"
   },
   "source": [
    "#### 5-06-02 사전(dict)의 메서드"
   ]
  },
  {
   "cell_type": "code",
   "execution_count": null,
   "metadata": {
    "id": "BMLZdZxgSRJV"
   },
   "outputs": [],
   "source": [
    "a = {'name':'tom', 'phone':'01012345678', 'birth':1212}"
   ]
  },
  {
   "cell_type": "code",
   "execution_count": null,
   "metadata": {
    "colab": {
     "base_uri": "https://localhost:8080/",
     "height": 36
    },
    "id": "fePvqy8PSRJW",
    "outputId": "6ee87df0-eff4-487f-b866-2f2e9c1f00a4"
   },
   "outputs": [],
   "source": [
    "# dict.keys() : key 목록을 반환하는 메서드\n",
    "\n",
    "# a 의 key 목록을 반환한다\n"
   ]
  },
  {
   "cell_type": "code",
   "execution_count": null,
   "metadata": {
    "colab": {
     "base_uri": "https://localhost:8080/"
    },
    "id": "ZVkVR47k2luc",
    "outputId": "c6cb6b0f-f115-44a1-c10e-229946a34d20"
   },
   "outputs": [],
   "source": [
    "for k in a.keys():\n",
    "    print(k)"
   ]
  },
  {
   "cell_type": "code",
   "execution_count": null,
   "metadata": {
    "colab": {
     "base_uri": "https://localhost:8080/",
     "height": 36
    },
    "id": "JFfTao3kSRJZ",
    "outputId": "7d27a573-8c5f-4c64-e8c0-a229c0f82d25"
   },
   "outputs": [],
   "source": [
    "# dict.values() : value 목록을 반환하는 메서드\n",
    "\n",
    "# a 의 value 목록을 반환한다\n"
   ]
  },
  {
   "cell_type": "code",
   "execution_count": null,
   "metadata": {
    "colab": {
     "base_uri": "https://localhost:8080/",
     "height": 36
    },
    "id": "1bANcPHESRJb",
    "outputId": "c3525004-eb72-4f8e-fd61-a4ea6623e659"
   },
   "outputs": [],
   "source": [
    "# dict.items() : item 목록을 반환하는 메서드\n",
    "\n",
    "# a 의 item 목록을 반환한다\n"
   ]
  },
  {
   "cell_type": "code",
   "execution_count": null,
   "metadata": {
    "colab": {
     "base_uri": "https://localhost:8080/"
    },
    "id": "y7mrkIdu-CpH",
    "outputId": "9571b13c-3921-423e-d093-71faa371793d"
   },
   "outputs": [],
   "source": [
    "# dict.fromkeys(iterable obj, value=None)\n",
    "mylist = list('ABC')\n",
    "# {'A': 0, 'B': 0, 'C': 0}와 같은 dict 객체를 fromkeys를 사용하여 생성한다\n",
    "mydict = \n",
    "mydict\n"
   ]
  },
  {
   "cell_type": "code",
   "execution_count": null,
   "metadata": {
    "colab": {
     "base_uri": "https://localhost:8080/"
    },
    "id": "21APs2y73Jso",
    "outputId": "9c0ce3e1-045c-4361-e94c-01cd0729f90f"
   },
   "outputs": [],
   "source": [
    "# {'A': None, 'B': None, 'C': None}과 같은 dict 객체를 fromkeys를 사용하여 생성한다\n",
    "mylist = list('ABC')\n",
    "mydict = \n",
    "mydict"
   ]
  },
  {
   "cell_type": "code",
   "execution_count": null,
   "metadata": {
    "id": "5pjNimpG3bni"
   },
   "outputs": [],
   "source": [
    "# 사전 내 key 존재 여부 확인 (in, not in)\n",
    "'A' in mydict, 'D' in mydict, 'D' not in mydict\n"
   ]
  },
  {
   "cell_type": "markdown",
   "metadata": {
    "id": "cJ7wiOQhUEXe"
   },
   "source": [
    "#### 5-06-03 사전 연습문제"
   ]
  },
  {
   "cell_type": "code",
   "execution_count": null,
   "metadata": {
    "id": "Fh6U-KrWUH9A"
   },
   "outputs": [],
   "source": [
    "A = {'A':90, 'B':80, 'C': 70}\n",
    "\n",
    "#code here\n",
    "\n",
    "# 'B'의 value인 80이 출력되도록 한다\n",
    "\n",
    "# 'B'를 key로 하는 item을 삭제한 뒤 출력하여 확인한다\n"
   ]
  }
 ],
 "metadata": {
  "colab": {
   "collapsed_sections": [],
   "name": "DS_School_Python_PART1_LAB.ipynb",
   "provenance": []
  },
  "kernelspec": {
   "display_name": "Python 3",
   "language": "python",
   "name": "python3"
  },
  "language_info": {
   "codemirror_mode": {
    "name": "ipython",
    "version": 3
   },
   "file_extension": ".py",
   "mimetype": "text/x-python",
   "name": "python",
   "nbconvert_exporter": "python",
   "pygments_lexer": "ipython3",
   "version": "3.6.6"
  }
 },
 "nbformat": 4,
 "nbformat_minor": 1
}
